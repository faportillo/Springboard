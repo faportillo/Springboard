{
 "cells": [
  {
   "cell_type": "code",
   "execution_count": 1,
   "metadata": {},
   "outputs": [
    {
     "name": "stdout",
     "output_type": "stream",
     "text": [
      "Pandas Version: 1.0.5\n"
     ]
    }
   ],
   "source": [
    "import pandas as pd\n",
    "print(\"Pandas Version: {}\".format(pd.__version__))\n",
    "import numpy as np\n",
    "\n",
    "%matplotlib inline"
   ]
  },
  {
   "cell_type": "code",
   "execution_count": 2,
   "metadata": {},
   "outputs": [
    {
     "data": {
      "text/html": [
       "<div>\n",
       "<style scoped>\n",
       "    .dataframe tbody tr th:only-of-type {\n",
       "        vertical-align: middle;\n",
       "    }\n",
       "\n",
       "    .dataframe tbody tr th {\n",
       "        vertical-align: top;\n",
       "    }\n",
       "\n",
       "    .dataframe thead th {\n",
       "        text-align: right;\n",
       "    }\n",
       "</style>\n",
       "<table border=\"1\" class=\"dataframe\">\n",
       "  <thead>\n",
       "    <tr style=\"text-align: right;\">\n",
       "      <th></th>\n",
       "      <th>Open</th>\n",
       "      <th>High</th>\n",
       "      <th>Low</th>\n",
       "      <th>Close</th>\n",
       "      <th>Volume</th>\n",
       "    </tr>\n",
       "    <tr>\n",
       "      <th>Date</th>\n",
       "      <th></th>\n",
       "      <th></th>\n",
       "      <th></th>\n",
       "      <th></th>\n",
       "      <th></th>\n",
       "    </tr>\n",
       "  </thead>\n",
       "  <tbody>\n",
       "    <tr>\n",
       "      <th>2010-01-04</th>\n",
       "      <td>313.16</td>\n",
       "      <td>314.44</td>\n",
       "      <td>311.81</td>\n",
       "      <td>313.06</td>\n",
       "      <td>NaN</td>\n",
       "    </tr>\n",
       "    <tr>\n",
       "      <th>2010-01-05</th>\n",
       "      <td>313.28</td>\n",
       "      <td>313.61</td>\n",
       "      <td>310.46</td>\n",
       "      <td>311.68</td>\n",
       "      <td>NaN</td>\n",
       "    </tr>\n",
       "    <tr>\n",
       "      <th>2010-01-06</th>\n",
       "      <td>312.62</td>\n",
       "      <td>312.62</td>\n",
       "      <td>302.88</td>\n",
       "      <td>303.83</td>\n",
       "      <td>NaN</td>\n",
       "    </tr>\n",
       "    <tr>\n",
       "      <th>2010-01-07</th>\n",
       "      <td>304.40</td>\n",
       "      <td>304.70</td>\n",
       "      <td>296.03</td>\n",
       "      <td>296.75</td>\n",
       "      <td>NaN</td>\n",
       "    </tr>\n",
       "    <tr>\n",
       "      <th>2010-01-08</th>\n",
       "      <td>295.70</td>\n",
       "      <td>301.32</td>\n",
       "      <td>294.26</td>\n",
       "      <td>300.71</td>\n",
       "      <td>NaN</td>\n",
       "    </tr>\n",
       "    <tr>\n",
       "      <th>...</th>\n",
       "      <td>...</td>\n",
       "      <td>...</td>\n",
       "      <td>...</td>\n",
       "      <td>...</td>\n",
       "      <td>...</td>\n",
       "    </tr>\n",
       "    <tr>\n",
       "      <th>2014-12-24</th>\n",
       "      <td>530.51</td>\n",
       "      <td>531.76</td>\n",
       "      <td>527.02</td>\n",
       "      <td>528.77</td>\n",
       "      <td>704035.0</td>\n",
       "    </tr>\n",
       "    <tr>\n",
       "      <th>2014-12-26</th>\n",
       "      <td>528.77</td>\n",
       "      <td>534.25</td>\n",
       "      <td>527.31</td>\n",
       "      <td>534.03</td>\n",
       "      <td>1037727.0</td>\n",
       "    </tr>\n",
       "    <tr>\n",
       "      <th>2014-12-29</th>\n",
       "      <td>532.19</td>\n",
       "      <td>535.48</td>\n",
       "      <td>530.01</td>\n",
       "      <td>530.33</td>\n",
       "      <td>2276104.0</td>\n",
       "    </tr>\n",
       "    <tr>\n",
       "      <th>2014-12-30</th>\n",
       "      <td>528.09</td>\n",
       "      <td>531.15</td>\n",
       "      <td>527.13</td>\n",
       "      <td>530.42</td>\n",
       "      <td>873923.0</td>\n",
       "    </tr>\n",
       "    <tr>\n",
       "      <th>2014-12-31</th>\n",
       "      <td>531.25</td>\n",
       "      <td>532.60</td>\n",
       "      <td>525.80</td>\n",
       "      <td>526.40</td>\n",
       "      <td>1371819.0</td>\n",
       "    </tr>\n",
       "  </tbody>\n",
       "</table>\n",
       "<p>1257 rows × 5 columns</p>\n",
       "</div>"
      ],
      "text/plain": [
       "              Open    High     Low   Close     Volume\n",
       "Date                                                 \n",
       "2010-01-04  313.16  314.44  311.81  313.06        NaN\n",
       "2010-01-05  313.28  313.61  310.46  311.68        NaN\n",
       "2010-01-06  312.62  312.62  302.88  303.83        NaN\n",
       "2010-01-07  304.40  304.70  296.03  296.75        NaN\n",
       "2010-01-08  295.70  301.32  294.26  300.71        NaN\n",
       "...            ...     ...     ...     ...        ...\n",
       "2014-12-24  530.51  531.76  527.02  528.77   704035.0\n",
       "2014-12-26  528.77  534.25  527.31  534.03  1037727.0\n",
       "2014-12-29  532.19  535.48  530.01  530.33  2276104.0\n",
       "2014-12-30  528.09  531.15  527.13  530.42   873923.0\n",
       "2014-12-31  531.25  532.60  525.80  526.40  1371819.0\n",
       "\n",
       "[1257 rows x 5 columns]"
      ]
     },
     "execution_count": 2,
     "metadata": {},
     "output_type": "execute_result"
    }
   ],
   "source": [
    "google = pd.read_csv('strata_data/data/goog.csv', index_col='Date', parse_dates=True)\n",
    "google"
   ]
  },
  {
   "cell_type": "code",
   "execution_count": 3,
   "metadata": {
    "scrolled": true
   },
   "outputs": [
    {
     "data": {
      "text/plain": [
       "pandas.core.frame.DataFrame"
      ]
     },
     "execution_count": 3,
     "metadata": {},
     "output_type": "execute_result"
    }
   ],
   "source": [
    "type(google)"
   ]
  },
  {
   "cell_type": "code",
   "execution_count": 4,
   "metadata": {},
   "outputs": [
    {
     "data": {
      "text/html": [
       "<div>\n",
       "<style scoped>\n",
       "    .dataframe tbody tr th:only-of-type {\n",
       "        vertical-align: middle;\n",
       "    }\n",
       "\n",
       "    .dataframe tbody tr th {\n",
       "        vertical-align: top;\n",
       "    }\n",
       "\n",
       "    .dataframe thead th {\n",
       "        text-align: right;\n",
       "    }\n",
       "</style>\n",
       "<table border=\"1\" class=\"dataframe\">\n",
       "  <thead>\n",
       "    <tr style=\"text-align: right;\">\n",
       "      <th></th>\n",
       "      <th>Open</th>\n",
       "      <th>High</th>\n",
       "      <th>Low</th>\n",
       "      <th>Close</th>\n",
       "      <th>Volume</th>\n",
       "    </tr>\n",
       "    <tr>\n",
       "      <th>Date</th>\n",
       "      <th></th>\n",
       "      <th></th>\n",
       "      <th></th>\n",
       "      <th></th>\n",
       "      <th></th>\n",
       "    </tr>\n",
       "  </thead>\n",
       "  <tbody>\n",
       "    <tr>\n",
       "      <th>2010-01-04</th>\n",
       "      <td>313.16</td>\n",
       "      <td>314.44</td>\n",
       "      <td>311.81</td>\n",
       "      <td>313.06</td>\n",
       "      <td>NaN</td>\n",
       "    </tr>\n",
       "    <tr>\n",
       "      <th>2010-01-05</th>\n",
       "      <td>313.28</td>\n",
       "      <td>313.61</td>\n",
       "      <td>310.46</td>\n",
       "      <td>311.68</td>\n",
       "      <td>NaN</td>\n",
       "    </tr>\n",
       "    <tr>\n",
       "      <th>2010-01-06</th>\n",
       "      <td>312.62</td>\n",
       "      <td>312.62</td>\n",
       "      <td>302.88</td>\n",
       "      <td>303.83</td>\n",
       "      <td>NaN</td>\n",
       "    </tr>\n",
       "    <tr>\n",
       "      <th>2010-01-07</th>\n",
       "      <td>304.40</td>\n",
       "      <td>304.70</td>\n",
       "      <td>296.03</td>\n",
       "      <td>296.75</td>\n",
       "      <td>NaN</td>\n",
       "    </tr>\n",
       "    <tr>\n",
       "      <th>2010-01-08</th>\n",
       "      <td>295.70</td>\n",
       "      <td>301.32</td>\n",
       "      <td>294.26</td>\n",
       "      <td>300.71</td>\n",
       "      <td>NaN</td>\n",
       "    </tr>\n",
       "    <tr>\n",
       "      <th>2010-01-11</th>\n",
       "      <td>301.93</td>\n",
       "      <td>301.93</td>\n",
       "      <td>296.72</td>\n",
       "      <td>300.25</td>\n",
       "      <td>NaN</td>\n",
       "    </tr>\n",
       "    <tr>\n",
       "      <th>2010-01-12</th>\n",
       "      <td>298.74</td>\n",
       "      <td>298.78</td>\n",
       "      <td>293.71</td>\n",
       "      <td>294.94</td>\n",
       "      <td>NaN</td>\n",
       "    </tr>\n",
       "    <tr>\n",
       "      <th>2010-01-13</th>\n",
       "      <td>287.96</td>\n",
       "      <td>293.90</td>\n",
       "      <td>286.66</td>\n",
       "      <td>293.25</td>\n",
       "      <td>NaN</td>\n",
       "    </tr>\n",
       "    <tr>\n",
       "      <th>2010-01-14</th>\n",
       "      <td>291.66</td>\n",
       "      <td>296.80</td>\n",
       "      <td>291.11</td>\n",
       "      <td>294.63</td>\n",
       "      <td>NaN</td>\n",
       "    </tr>\n",
       "    <tr>\n",
       "      <th>2010-01-15</th>\n",
       "      <td>295.50</td>\n",
       "      <td>296.48</td>\n",
       "      <td>288.73</td>\n",
       "      <td>289.71</td>\n",
       "      <td>NaN</td>\n",
       "    </tr>\n",
       "  </tbody>\n",
       "</table>\n",
       "</div>"
      ],
      "text/plain": [
       "              Open    High     Low   Close  Volume\n",
       "Date                                              \n",
       "2010-01-04  313.16  314.44  311.81  313.06     NaN\n",
       "2010-01-05  313.28  313.61  310.46  311.68     NaN\n",
       "2010-01-06  312.62  312.62  302.88  303.83     NaN\n",
       "2010-01-07  304.40  304.70  296.03  296.75     NaN\n",
       "2010-01-08  295.70  301.32  294.26  300.71     NaN\n",
       "2010-01-11  301.93  301.93  296.72  300.25     NaN\n",
       "2010-01-12  298.74  298.78  293.71  294.94     NaN\n",
       "2010-01-13  287.96  293.90  286.66  293.25     NaN\n",
       "2010-01-14  291.66  296.80  291.11  294.63     NaN\n",
       "2010-01-15  295.50  296.48  288.73  289.71     NaN"
      ]
     },
     "execution_count": 4,
     "metadata": {},
     "output_type": "execute_result"
    }
   ],
   "source": [
    "google.head(10)"
   ]
  },
  {
   "cell_type": "code",
   "execution_count": 5,
   "metadata": {},
   "outputs": [
    {
     "name": "stdout",
     "output_type": "stream",
     "text": [
      "<class 'pandas.core.frame.DataFrame'>\n",
      "DatetimeIndex: 1257 entries, 2010-01-04 to 2014-12-31\n",
      "Data columns (total 5 columns):\n",
      " #   Column  Non-Null Count  Dtype  \n",
      "---  ------  --------------  -----  \n",
      " 0   Open    1257 non-null   float64\n",
      " 1   High    1257 non-null   float64\n",
      " 2   Low     1257 non-null   float64\n",
      " 3   Close   1257 non-null   float64\n",
      " 4   Volume  194 non-null    float64\n",
      "dtypes: float64(5)\n",
      "memory usage: 58.9 KB\n"
     ]
    }
   ],
   "source": [
    "google.info()"
   ]
  },
  {
   "cell_type": "code",
   "execution_count": 6,
   "metadata": {},
   "outputs": [
    {
     "data": {
      "text/plain": [
       "Date\n",
       "2010-01-04    313.16\n",
       "2010-01-05    313.28\n",
       "2010-01-06    312.62\n",
       "2010-01-07    304.40\n",
       "2010-01-08    295.70\n",
       "               ...  \n",
       "2014-12-24    530.51\n",
       "2014-12-26    528.77\n",
       "2014-12-29    532.19\n",
       "2014-12-30    528.09\n",
       "2014-12-31    531.25\n",
       "Name: Open, Length: 1257, dtype: float64"
      ]
     },
     "execution_count": 6,
     "metadata": {},
     "output_type": "execute_result"
    }
   ],
   "source": [
    "google['Open']"
   ]
  },
  {
   "cell_type": "code",
   "execution_count": 7,
   "metadata": {},
   "outputs": [
    {
     "data": {
      "text/plain": [
       "Date\n",
       "2010-01-19    290.45\n",
       "2010-01-20    292.70\n",
       "2010-01-21    291.43\n",
       "2010-01-22    281.97\n",
       "2010-01-25    273.02\n",
       "2010-01-26    268.72\n",
       "2010-01-27    270.36\n",
       "2010-01-28    271.97\n",
       "2010-01-29    268.98\n",
       "2010-02-01    267.03\n",
       "Name: Open, dtype: float64"
      ]
     },
     "execution_count": 7,
     "metadata": {},
     "output_type": "execute_result"
    }
   ],
   "source": [
    "google['Open'].iloc[10:20]"
   ]
  },
  {
   "cell_type": "code",
   "execution_count": 8,
   "metadata": {},
   "outputs": [
    {
     "data": {
      "text/plain": [
       "Date\n",
       "2010-01-04    313.16\n",
       "2010-01-05    313.28\n",
       "2010-01-06    312.62\n",
       "2010-01-07    304.40\n",
       "2010-01-08    295.70\n",
       "Name: Open, dtype: float64"
      ]
     },
     "execution_count": 8,
     "metadata": {},
     "output_type": "execute_result"
    }
   ],
   "source": [
    "google.loc['2010-01-04':'2010-01-08','Open']"
   ]
  },
  {
   "cell_type": "code",
   "execution_count": 9,
   "metadata": {},
   "outputs": [
    {
     "data": {
      "text/html": [
       "<div>\n",
       "<style scoped>\n",
       "    .dataframe tbody tr th:only-of-type {\n",
       "        vertical-align: middle;\n",
       "    }\n",
       "\n",
       "    .dataframe tbody tr th {\n",
       "        vertical-align: top;\n",
       "    }\n",
       "\n",
       "    .dataframe thead th {\n",
       "        text-align: right;\n",
       "    }\n",
       "</style>\n",
       "<table border=\"1\" class=\"dataframe\">\n",
       "  <thead>\n",
       "    <tr style=\"text-align: right;\">\n",
       "      <th></th>\n",
       "      <th>Open</th>\n",
       "      <th>High</th>\n",
       "      <th>Low</th>\n",
       "      <th>Close</th>\n",
       "      <th>Volume</th>\n",
       "    </tr>\n",
       "    <tr>\n",
       "      <th>Date</th>\n",
       "      <th></th>\n",
       "      <th></th>\n",
       "      <th></th>\n",
       "      <th></th>\n",
       "      <th></th>\n",
       "    </tr>\n",
       "  </thead>\n",
       "  <tbody>\n",
       "    <tr>\n",
       "      <th>2010-01-08</th>\n",
       "      <td>295.70</td>\n",
       "      <td>301.32</td>\n",
       "      <td>294.26</td>\n",
       "      <td>300.71</td>\n",
       "      <td>NaN</td>\n",
       "    </tr>\n",
       "    <tr>\n",
       "      <th>2010-01-13</th>\n",
       "      <td>287.96</td>\n",
       "      <td>293.90</td>\n",
       "      <td>286.66</td>\n",
       "      <td>293.25</td>\n",
       "      <td>NaN</td>\n",
       "    </tr>\n",
       "    <tr>\n",
       "      <th>2010-01-14</th>\n",
       "      <td>291.66</td>\n",
       "      <td>296.80</td>\n",
       "      <td>291.11</td>\n",
       "      <td>294.63</td>\n",
       "      <td>NaN</td>\n",
       "    </tr>\n",
       "    <tr>\n",
       "      <th>2010-01-19</th>\n",
       "      <td>290.45</td>\n",
       "      <td>294.91</td>\n",
       "      <td>287.86</td>\n",
       "      <td>293.52</td>\n",
       "      <td>NaN</td>\n",
       "    </tr>\n",
       "    <tr>\n",
       "      <th>2010-01-26</th>\n",
       "      <td>268.72</td>\n",
       "      <td>274.53</td>\n",
       "      <td>267.88</td>\n",
       "      <td>270.94</td>\n",
       "      <td>NaN</td>\n",
       "    </tr>\n",
       "  </tbody>\n",
       "</table>\n",
       "</div>"
      ],
      "text/plain": [
       "              Open    High     Low   Close  Volume\n",
       "Date                                              \n",
       "2010-01-08  295.70  301.32  294.26  300.71     NaN\n",
       "2010-01-13  287.96  293.90  286.66  293.25     NaN\n",
       "2010-01-14  291.66  296.80  291.11  294.63     NaN\n",
       "2010-01-19  290.45  294.91  287.86  293.52     NaN\n",
       "2010-01-26  268.72  274.53  267.88  270.94     NaN"
      ]
     },
     "execution_count": 9,
     "metadata": {},
     "output_type": "execute_result"
    }
   ],
   "source": [
    "# Filtering by conditional\n",
    "google_up = google[ google['Close'] > google['Open'] ]\n",
    "google_up.head()"
   ]
  },
  {
   "cell_type": "code",
   "execution_count": 10,
   "metadata": {},
   "outputs": [
    {
     "data": {
      "text/html": [
       "<div>\n",
       "<style scoped>\n",
       "    .dataframe tbody tr th:only-of-type {\n",
       "        vertical-align: middle;\n",
       "    }\n",
       "\n",
       "    .dataframe tbody tr th {\n",
       "        vertical-align: top;\n",
       "    }\n",
       "\n",
       "    .dataframe thead th {\n",
       "        text-align: right;\n",
       "    }\n",
       "</style>\n",
       "<table border=\"1\" class=\"dataframe\">\n",
       "  <thead>\n",
       "    <tr style=\"text-align: right;\">\n",
       "      <th></th>\n",
       "      <th>Open</th>\n",
       "      <th>High</th>\n",
       "      <th>Low</th>\n",
       "      <th>Close</th>\n",
       "      <th>Volume</th>\n",
       "    </tr>\n",
       "    <tr>\n",
       "      <th>Date</th>\n",
       "      <th></th>\n",
       "      <th></th>\n",
       "      <th></th>\n",
       "      <th></th>\n",
       "      <th></th>\n",
       "    </tr>\n",
       "  </thead>\n",
       "  <tbody>\n",
       "    <tr>\n",
       "      <th>2014-03-27</th>\n",
       "      <td>564.86</td>\n",
       "      <td>565.40</td>\n",
       "      <td>550.50</td>\n",
       "      <td>556.58</td>\n",
       "      <td>3826676.0</td>\n",
       "    </tr>\n",
       "    <tr>\n",
       "      <th>2014-03-28</th>\n",
       "      <td>558.94</td>\n",
       "      <td>566.03</td>\n",
       "      <td>558.33</td>\n",
       "      <td>559.51</td>\n",
       "      <td>2258918.0</td>\n",
       "    </tr>\n",
       "    <tr>\n",
       "      <th>2014-03-31</th>\n",
       "      <td>564.63</td>\n",
       "      <td>566.93</td>\n",
       "      <td>555.87</td>\n",
       "      <td>556.70</td>\n",
       "      <td>1942277.0</td>\n",
       "    </tr>\n",
       "    <tr>\n",
       "      <th>2014-04-01</th>\n",
       "      <td>559.57</td>\n",
       "      <td>568.18</td>\n",
       "      <td>558.44</td>\n",
       "      <td>566.88</td>\n",
       "      <td>2182626.0</td>\n",
       "    </tr>\n",
       "    <tr>\n",
       "      <th>2014-04-02</th>\n",
       "      <td>282.43</td>\n",
       "      <td>571.83</td>\n",
       "      <td>561.44</td>\n",
       "      <td>566.98</td>\n",
       "      <td>2088804.0</td>\n",
       "    </tr>\n",
       "  </tbody>\n",
       "</table>\n",
       "</div>"
      ],
      "text/plain": [
       "              Open    High     Low   Close     Volume\n",
       "Date                                                 \n",
       "2014-03-27  564.86  565.40  550.50  556.58  3826676.0\n",
       "2014-03-28  558.94  566.03  558.33  559.51  2258918.0\n",
       "2014-03-31  564.63  566.93  555.87  556.70  1942277.0\n",
       "2014-04-01  559.57  568.18  558.44  566.88  2182626.0\n",
       "2014-04-02  282.43  571.83  561.44  566.98  2088804.0"
      ]
     },
     "execution_count": 10,
     "metadata": {},
     "output_type": "execute_result"
    }
   ],
   "source": [
    "google_filtered = google[pd.isnull(google['Volume'])==False]\n",
    "google_filtered.head()"
   ]
  },
  {
   "cell_type": "code",
   "execution_count": 11,
   "metadata": {},
   "outputs": [
    {
     "data": {
      "text/html": [
       "<div>\n",
       "<style scoped>\n",
       "    .dataframe tbody tr th:only-of-type {\n",
       "        vertical-align: middle;\n",
       "    }\n",
       "\n",
       "    .dataframe tbody tr th {\n",
       "        vertical-align: top;\n",
       "    }\n",
       "\n",
       "    .dataframe thead th {\n",
       "        text-align: right;\n",
       "    }\n",
       "</style>\n",
       "<table border=\"1\" class=\"dataframe\">\n",
       "  <thead>\n",
       "    <tr style=\"text-align: right;\">\n",
       "      <th></th>\n",
       "      <th>Open</th>\n",
       "      <th>High</th>\n",
       "      <th>Low</th>\n",
       "      <th>Close</th>\n",
       "      <th>Volume</th>\n",
       "    </tr>\n",
       "  </thead>\n",
       "  <tbody>\n",
       "    <tr>\n",
       "      <th>count</th>\n",
       "      <td>1257.000000</td>\n",
       "      <td>1257.000000</td>\n",
       "      <td>1257.000000</td>\n",
       "      <td>1257.000000</td>\n",
       "      <td>1.940000e+02</td>\n",
       "    </tr>\n",
       "    <tr>\n",
       "      <th>mean</th>\n",
       "      <td>375.275593</td>\n",
       "      <td>378.450247</td>\n",
       "      <td>372.132474</td>\n",
       "      <td>375.327064</td>\n",
       "      <td>1.937264e+06</td>\n",
       "    </tr>\n",
       "    <tr>\n",
       "      <th>std</th>\n",
       "      <td>115.684354</td>\n",
       "      <td>116.288827</td>\n",
       "      <td>114.935742</td>\n",
       "      <td>115.664301</td>\n",
       "      <td>9.842775e+05</td>\n",
       "    </tr>\n",
       "    <tr>\n",
       "      <th>min</th>\n",
       "      <td>218.940000</td>\n",
       "      <td>220.920000</td>\n",
       "      <td>216.600000</td>\n",
       "      <td>217.820000</td>\n",
       "      <td>7.040350e+05</td>\n",
       "    </tr>\n",
       "    <tr>\n",
       "      <th>25%</th>\n",
       "      <td>285.790000</td>\n",
       "      <td>288.760000</td>\n",
       "      <td>283.060000</td>\n",
       "      <td>285.450000</td>\n",
       "      <td>1.338451e+06</td>\n",
       "    </tr>\n",
       "    <tr>\n",
       "      <th>50%</th>\n",
       "      <td>318.330000</td>\n",
       "      <td>320.800000</td>\n",
       "      <td>315.180000</td>\n",
       "      <td>317.260000</td>\n",
       "      <td>1.684634e+06</td>\n",
       "    </tr>\n",
       "    <tr>\n",
       "      <th>75%</th>\n",
       "      <td>452.540000</td>\n",
       "      <td>456.020000</td>\n",
       "      <td>449.740000</td>\n",
       "      <td>452.830000</td>\n",
       "      <td>2.164369e+06</td>\n",
       "    </tr>\n",
       "    <tr>\n",
       "      <th>max</th>\n",
       "      <td>612.790000</td>\n",
       "      <td>613.830000</td>\n",
       "      <td>608.690000</td>\n",
       "      <td>609.470000</td>\n",
       "      <td>6.795393e+06</td>\n",
       "    </tr>\n",
       "  </tbody>\n",
       "</table>\n",
       "</div>"
      ],
      "text/plain": [
       "              Open         High          Low        Close        Volume\n",
       "count  1257.000000  1257.000000  1257.000000  1257.000000  1.940000e+02\n",
       "mean    375.275593   378.450247   372.132474   375.327064  1.937264e+06\n",
       "std     115.684354   116.288827   114.935742   115.664301  9.842775e+05\n",
       "min     218.940000   220.920000   216.600000   217.820000  7.040350e+05\n",
       "25%     285.790000   288.760000   283.060000   285.450000  1.338451e+06\n",
       "50%     318.330000   320.800000   315.180000   317.260000  1.684634e+06\n",
       "75%     452.540000   456.020000   449.740000   452.830000  2.164369e+06\n",
       "max     612.790000   613.830000   608.690000   609.470000  6.795393e+06"
      ]
     },
     "execution_count": 11,
     "metadata": {},
     "output_type": "execute_result"
    }
   ],
   "source": [
    "google.describe()"
   ]
  },
  {
   "cell_type": "code",
   "execution_count": 12,
   "metadata": {},
   "outputs": [
    {
     "data": {
      "text/plain": [
       "Date\n",
       "2010-01-04         NaN\n",
       "2010-01-05   -0.004408\n",
       "2010-01-06   -0.025186\n",
       "2010-01-07   -0.023303\n",
       "2010-01-08    0.013345\n",
       "Name: Return, dtype: float64"
      ]
     },
     "execution_count": 12,
     "metadata": {},
     "output_type": "execute_result"
    }
   ],
   "source": [
    "google['Return'] = google['Close'].pct_change()\n",
    "google['Return'].iloc[0:5]"
   ]
  },
  {
   "cell_type": "code",
   "execution_count": 13,
   "metadata": {},
   "outputs": [
    {
     "data": {
      "text/plain": [
       "Date\n",
       "2010-01-04         NaN\n",
       "2010-01-05   -0.004418\n",
       "2010-01-06   -0.025509\n",
       "2010-01-07   -0.023578\n",
       "2010-01-08    0.013256\n",
       "Name: LogReturn, dtype: float64"
      ]
     },
     "execution_count": 13,
     "metadata": {},
     "output_type": "execute_result"
    }
   ],
   "source": [
    "google['LogReturn'] = np.log(1 + google['Return'])\n",
    "google['LogReturn'].iloc[0:5]"
   ]
  },
  {
   "cell_type": "code",
   "execution_count": 14,
   "metadata": {},
   "outputs": [
    {
     "data": {
      "text/plain": [
       "Date\n",
       "2010-12-28         NaN\n",
       "2010-12-29         NaN\n",
       "2010-12-30         NaN\n",
       "2010-12-31         NaN\n",
       "2011-01-03         NaN\n",
       "2011-01-04    0.278561\n",
       "2011-01-05    0.278770\n",
       "2011-01-06    0.277694\n",
       "2011-01-07    0.276720\n",
       "2011-01-10    0.276432\n",
       "Name: Volatility, dtype: float64"
      ]
     },
     "execution_count": 14,
     "metadata": {},
     "output_type": "execute_result"
    }
   ],
   "source": [
    "window_size = 252\n",
    "google['Volatility'] = google['LogReturn'].rolling(window_size).std() * np.sqrt(window_size)\n",
    "google['Volatility'].iloc[window_size-5:window_size+5]"
   ]
  },
  {
   "cell_type": "code",
   "execution_count": 15,
   "metadata": {},
   "outputs": [
    {
     "name": "stdout",
     "output_type": "stream",
     "text": [
      "<class 'pandas.core.frame.DataFrame'>\n",
      "DatetimeIndex: 1257 entries, 2010-01-04 to 2014-12-31\n",
      "Data columns (total 8 columns):\n",
      " #   Column      Non-Null Count  Dtype  \n",
      "---  ------      --------------  -----  \n",
      " 0   Open        1257 non-null   float64\n",
      " 1   High        1257 non-null   float64\n",
      " 2   Low         1257 non-null   float64\n",
      " 3   Close       1257 non-null   float64\n",
      " 4   Volume      194 non-null    float64\n",
      " 5   Return      1256 non-null   float64\n",
      " 6   LogReturn   1256 non-null   float64\n",
      " 7   Volatility  1005 non-null   float64\n",
      "dtypes: float64(8)\n",
      "memory usage: 128.4 KB\n"
     ]
    }
   ],
   "source": [
    "google.info()"
   ]
  },
  {
   "cell_type": "code",
   "execution_count": 16,
   "metadata": {},
   "outputs": [
    {
     "name": "stderr",
     "output_type": "stream",
     "text": [
      "/usr/local/lib/python3.8/site-packages/pandas/plotting/_matplotlib/converter.py:256: MatplotlibDeprecationWarning: \n",
      "The epoch2num function was deprecated in Matplotlib 3.3 and will be removed two minor releases later.\n",
      "  base = dates.epoch2num(dt.asi8 / 1.0e9)\n",
      "/usr/local/lib/python3.8/site-packages/pandas/plotting/_matplotlib/converter.py:256: MatplotlibDeprecationWarning: \n",
      "The epoch2num function was deprecated in Matplotlib 3.3 and will be removed two minor releases later.\n",
      "  base = dates.epoch2num(dt.asi8 / 1.0e9)\n"
     ]
    },
    {
     "data": {
      "text/plain": [
       "array([<AxesSubplot:xlabel='Date'>, <AxesSubplot:xlabel='Date'>],\n",
       "      dtype=object)"
      ]
     },
     "execution_count": 16,
     "metadata": {},
     "output_type": "execute_result"
    },
    {
     "data": {
      "image/png": "[encoded data removed]",
      "text/plain": [
       "<Figure size 1080x432 with 2 Axes>"
      ]
     },
     "metadata": {
      "needs_background": "light"
     },
     "output_type": "display_data"
    }
   ],
   "source": [
    "google[['Close','Volatility']].plot(subplots=True, figsize=(15,6))"
   ]
  },
  {
   "cell_type": "code",
   "execution_count": 17,
   "metadata": {},
   "outputs": [
    {
     "data": {
      "text/plain": [
       "'1.0.5'"
      ]
     },
     "execution_count": 17,
     "metadata": {},
     "output_type": "execute_result"
    }
   ],
   "source": [
    "# Numerical computing\n",
    "import numpy as np\n",
    "\n",
    "# Draw pictures!\n",
    "import matplotlib.pyplot as plt\n",
    "%matplotlib inline\n",
    "\n",
    "# Python people are weird!\n",
    "import pandas as pd\n",
    "\n",
    "# Set Jupyter notebook display options\n",
    "pd.options.display.max_rows = 8\n",
    "pd.options.display.max_columns = 8\n",
    "\n",
    "# Check version number\n",
    "pd.__version__\n"
   ]
  },
  {
   "cell_type": "code",
   "execution_count": 18,
   "metadata": {},
   "outputs": [
    {
     "name": "stdout",
     "output_type": "stream",
     "text": [
      "\n",
      "\n",
      "0          gamma Cep b\n",
      "1          HD 114762 b\n",
      "2       PSR B1257+12 B\n",
      "3       PSR B1257+12 A\n",
      "             ...      \n",
      "1638         WASP-89 b\n",
      "1639         HD 1666 b\n",
      "1640        HD 95127 b\n",
      "1641      Kepler-432 c\n",
      "Name: NAME, Length: 1642, dtype: object\n",
      "\n",
      "\n",
      "<class 'pandas.core.series.Series'>\n"
     ]
    }
   ],
   "source": [
    "file   = \"strata_data/data/exoplanets.csv\"\n",
    "data   = pd.read_csv(file)\n",
    "series = data['NAME']\n",
    "\n",
    "print( \"\\n\" )\n",
    "print( series )\n",
    "\n",
    "print( \"\\n\" )\n",
    "print( type( series ) )"
   ]
  },
  {
   "cell_type": "code",
   "execution_count": 19,
   "metadata": {},
   "outputs": [
    {
     "data": {
      "text/plain": [
       "0     5\n",
       "1    10\n",
       "2    15\n",
       "3    20\n",
       "4    25\n",
       "dtype: int64"
      ]
     },
     "execution_count": 19,
     "metadata": {},
     "output_type": "execute_result"
    }
   ],
   "source": [
    "new_list = [5, 10, 15, 20, 25]\n",
    "pd.Series(new_list)"
   ]
  },
  {
   "cell_type": "code",
   "execution_count": 20,
   "metadata": {},
   "outputs": [
    {
     "data": {
      "text/plain": [
       "b    100.0\n",
       "a    200.0\n",
       "d    450.0\n",
       "c    700.0\n",
       "dtype: float64"
      ]
     },
     "execution_count": 20,
     "metadata": {},
     "output_type": "execute_result"
    }
   ],
   "source": [
    "new_dictionary = {'b': 100, 'a': 200.0, 'd':450, 'c':700}\n",
    "pd.Series(new_dictionary)"
   ]
  },
  {
   "cell_type": "code",
   "execution_count": 21,
   "metadata": {},
   "outputs": [
    {
     "data": {
      "text/plain": [
       "b    100\n",
       "a    200\n",
       "d    450\n",
       "c    700\n",
       "dtype: int64"
      ]
     },
     "execution_count": 21,
     "metadata": {},
     "output_type": "execute_result"
    }
   ],
   "source": [
    "from collections import OrderedDict\n",
    "od = OrderedDict([('b', 100), ('a',200), ('d',450), ('c',700)])\n",
    "pd.Series(od)\n"
   ]
  },
  {
   "cell_type": "code",
   "execution_count": 22,
   "metadata": {},
   "outputs": [
    {
     "name": "stdout",
     "output_type": "stream",
     "text": [
      "\n",
      "\n",
      "[10. 20. 30. 40. 50.]\n",
      "<class 'numpy.ndarray'>\n",
      "\n",
      "\n",
      "0    10.0\n",
      "1    20.0\n",
      "2    30.0\n",
      "3    40.0\n",
      "4    50.0\n",
      "dtype: float64\n",
      "<class 'pandas.core.series.Series'>\n"
     ]
    }
   ],
   "source": [
    "# Example: Creating a Series from a NumPy array\n",
    "\n",
    "array1  = np.arange(1,6)*10.0\n",
    "series1 = pd.Series(array1)\n",
    "\n",
    "print( \"\\n\" )\n",
    "print( array1 )\n",
    "print( type(array1) )\n",
    "\n",
    "print( \"\\n\" )\n",
    "print( series1 )\n",
    "print( type(series1) )"
   ]
  },
  {
   "cell_type": "code",
   "execution_count": 23,
   "metadata": {},
   "outputs": [
    {
     "data": {
      "text/plain": [
       "RangeIndex(start=0, stop=5, step=1)"
      ]
     },
     "execution_count": 23,
     "metadata": {},
     "output_type": "execute_result"
    }
   ],
   "source": [
    "# The default Index is just a sequence of integers:\n",
    "array1  = np.arange(1,6)*10.0\n",
    "series1 = pd.Series(array1)\n",
    "\n",
    "series1.index\n"
   ]
  },
  {
   "cell_type": "code",
   "execution_count": 24,
   "metadata": {},
   "outputs": [
    {
     "name": "stdout",
     "output_type": "stream",
     "text": [
      "10.0\n"
     ]
    }
   ],
   "source": [
    "print(series1.iloc[0]) # positional indexing"
   ]
  },
  {
   "cell_type": "code",
   "execution_count": 25,
   "metadata": {},
   "outputs": [],
   "source": [
    "# The Index can be set to a sequence of labels:\n",
    "\n",
    "index2 = ['a','b','c','d','a']\n",
    "series2 = pd.Series(np.arange(1,6)*10.0, index=index2)\n"
   ]
  },
  {
   "cell_type": "code",
   "execution_count": 26,
   "metadata": {},
   "outputs": [
    {
     "data": {
      "text/plain": [
       "20.0"
      ]
     },
     "execution_count": 26,
     "metadata": {},
     "output_type": "execute_result"
    }
   ],
   "source": [
    "# index labels used for indexing\n",
    "series2.loc['b']"
   ]
  },
  {
   "cell_type": "code",
   "execution_count": 27,
   "metadata": {},
   "outputs": [
    {
     "data": {
      "text/plain": [
       "a    10.0\n",
       "a    50.0\n",
       "dtype: float64"
      ]
     },
     "execution_count": 27,
     "metadata": {},
     "output_type": "execute_result"
    }
   ],
   "source": [
    "series2.loc['a']"
   ]
  },
  {
   "cell_type": "code",
   "execution_count": 28,
   "metadata": {},
   "outputs": [
    {
     "name": "stdout",
     "output_type": "stream",
     "text": [
      "a 10.0\n",
      "b 20.0\n",
      "c 30.0\n",
      "d 40.0\n",
      "a 50.0\n"
     ]
    }
   ],
   "source": [
    "for key, value in series2.iteritems():\n",
    "    print(key, value)"
   ]
  },
  {
   "cell_type": "code",
   "execution_count": 29,
   "metadata": {},
   "outputs": [
    {
     "data": {
      "text/plain": [
       "1    20.0\n",
       "2    30.0\n",
       "dtype: float64"
      ]
     },
     "execution_count": 29,
     "metadata": {},
     "output_type": "execute_result"
    }
   ],
   "source": [
    "series1.iloc[1:3]"
   ]
  },
  {
   "cell_type": "code",
   "execution_count": 30,
   "metadata": {},
   "outputs": [
    {
     "name": "stdout",
     "output_type": "stream",
     "text": [
      "b    20.0\n",
      "dtype: float64\n",
      "\n",
      "\n",
      "b    20.0\n",
      "c    30.0\n",
      "dtype: float64\n"
     ]
    }
   ],
   "source": [
    "print(series2.iloc[1:2])\n",
    "print(\"\\n\")\n",
    "print(series2.loc['b': 'c'])"
   ]
  },
  {
   "cell_type": "code",
   "execution_count": 31,
   "metadata": {},
   "outputs": [
    {
     "data": {
      "text/plain": [
       "a    50.0\n",
       "dtype: float64"
      ]
     },
     "execution_count": 31,
     "metadata": {},
     "output_type": "execute_result"
    }
   ],
   "source": [
    "series2.iloc[-1:] #slice from end"
   ]
  },
  {
   "cell_type": "code",
   "execution_count": 32,
   "metadata": {},
   "outputs": [
    {
     "data": {
      "text/plain": [
       "a    10.0\n",
       "b    20.0\n",
       "dtype: float64"
      ]
     },
     "execution_count": 32,
     "metadata": {},
     "output_type": "execute_result"
    }
   ],
   "source": [
    "series2.iloc[:-3] #slice from beginning"
   ]
  },
  {
   "cell_type": "code",
   "execution_count": 33,
   "metadata": {},
   "outputs": [
    {
     "data": {
      "text/plain": [
       "d    40.0\n",
       "b    20.0\n",
       "dtype: float64"
      ]
     },
     "execution_count": 33,
     "metadata": {},
     "output_type": "execute_result"
    }
   ],
   "source": [
    "# Example: slice with labels, but with integer step size\n",
    "series2.loc['d':'b':-2]"
   ]
  },
  {
   "cell_type": "code",
   "execution_count": 34,
   "metadata": {},
   "outputs": [
    {
     "name": "stdout",
     "output_type": "stream",
     "text": [
      "0    10.0\n",
      "1    20.0\n",
      "2    30.0\n",
      "3    40.0\n",
      "4    50.0\n",
      "dtype: float64\n",
      "0     20.0\n",
      "1     40.0\n",
      "2     60.0\n",
      "3     80.0\n",
      "4    100.0\n",
      "dtype: float64\n",
      "0     60.0\n",
      "1    120.0\n",
      "2    180.0\n",
      "3    240.0\n",
      "4    300.0\n",
      "dtype: float64\n"
     ]
    }
   ],
   "source": [
    "# Arithmetic with Series is as with numpy arrays\n",
    "print(series1)\n",
    "\n",
    "series2 = series1 * 2 \n",
    "print(series2)\n",
    "\n",
    "series3 = series2 * 3\n",
    "print(series3)"
   ]
  },
  {
   "cell_type": "code",
   "execution_count": 35,
   "metadata": {},
   "outputs": [
    {
     "data": {
      "text/plain": [
       "0    -3.141593\n",
       "1    -3.078126\n",
       "2    -3.014660\n",
       "3    -2.951193\n",
       "        ...   \n",
       "96    2.951193\n",
       "97    3.014660\n",
       "98    3.078126\n",
       "99    3.141593\n",
       "Length: 100, dtype: float64"
      ]
     },
     "execution_count": 35,
     "metadata": {},
     "output_type": "execute_result"
    }
   ],
   "source": [
    "# numpy ufuncs can be applied elementwise to Series\n",
    "\n",
    "series_2pi = pd.Series( np.linspace(-1*np.pi, +1*np.pi, 100) )\n",
    "series_2pi\n"
   ]
  },
  {
   "cell_type": "code",
   "execution_count": 36,
   "metadata": {},
   "outputs": [
    {
     "name": "stdout",
     "output_type": "stream",
     "text": [
      "0    -1.224647e-16\n",
      "1    -6.342392e-02\n",
      "2    -1.265925e-01\n",
      "3    -1.892512e-01\n",
      "          ...     \n",
      "96    1.892512e-01\n",
      "97    1.265925e-01\n",
      "98    6.342392e-02\n",
      "99    1.224647e-16\n",
      "Length: 100, dtype: float64\n",
      "<class 'pandas.core.series.Series'>\n"
     ]
    }
   ],
   "source": [
    "series_sin = np.sin( series_2pi )\n",
    "print( series_sin )\n",
    "print( type( series_sin ) )"
   ]
  },
  {
   "cell_type": "code",
   "execution_count": 37,
   "metadata": {},
   "outputs": [
    {
     "data": {
      "text/plain": [
       "[<matplotlib.lines.Line2D at 0x7f18a5ffed00>]"
      ]
     },
     "execution_count": 37,
     "metadata": {},
     "output_type": "execute_result"
    },
    {
     "data": {
      "image/png": "[encoded data removed]",
      "text/plain": [
       "<Figure size 432x288 with 1 Axes>"
      ]
     },
     "metadata": {
      "needs_background": "light"
     },
     "output_type": "display_data"
    }
   ],
   "source": [
    "plt.plot(series_2pi, series_sin)"
   ]
  },
  {
   "cell_type": "code",
   "execution_count": 38,
   "metadata": {},
   "outputs": [
    {
     "name": "stdout",
     "output_type": "stream",
     "text": [
      "0    1\n",
      "1    2\n",
      "2    3\n",
      "3    4\n",
      "4    5\n",
      "dtype: int64\n",
      "0    10\n",
      "1    20\n",
      "2    30\n",
      "3    40\n",
      "4    50\n",
      "dtype: int64\n",
      "0    11\n",
      "1    22\n",
      "2    33\n",
      "3    44\n",
      "4    55\n",
      "dtype: int64\n"
     ]
    }
   ],
   "source": [
    "# You can add two series\n",
    "\n",
    "series1 = pd.Series([1,2,3,4,5])\n",
    "print(series1)\n",
    "\n",
    "series2 = pd.Series([10,20,30,40,50])\n",
    "print(series2)\n",
    "\n",
    "series3 = series1 + series2\n",
    "print(series3)"
   ]
  },
  {
   "cell_type": "code",
   "execution_count": 39,
   "metadata": {},
   "outputs": [
    {
     "name": "stdout",
     "output_type": "stream",
     "text": [
      "a     NaN\n",
      "b     NaN\n",
      "c    13.0\n",
      "d    24.0\n",
      "e    35.0\n",
      "f     NaN\n",
      "g     NaN\n",
      "dtype: float64\n"
     ]
    }
   ],
   "source": [
    "# Even better when you assign labels to your data!\n",
    "\n",
    "series1 = pd.Series([1,2,3,4,5],      index=['a','b','c','d','e'])\n",
    "series2 = pd.Series([10,20,30,40,50], index=['c','d','e','f','g'])\n",
    "\n",
    "print( series1 + series2 )"
   ]
  },
  {
   "cell_type": "code",
   "execution_count": 40,
   "metadata": {},
   "outputs": [
    {
     "data": {
      "text/plain": [
       "24.0"
      ]
     },
     "execution_count": 40,
     "metadata": {},
     "output_type": "execute_result"
    }
   ],
   "source": [
    "(series1 + series2).mean()"
   ]
  },
  {
   "cell_type": "code",
   "execution_count": 41,
   "metadata": {},
   "outputs": [
    {
     "name": "stdout",
     "output_type": "stream",
     "text": [
      "Pandas mean:  1.5\n",
      "Numpy mean:   nan\n"
     ]
    }
   ],
   "source": [
    "# Contrast how NumPy and Pandas handle NaN:\n",
    "\n",
    "print( \"Pandas mean: \", pd.Series( [1.0, 2.0, np.nan] ).mean() )\n",
    "print( \"Numpy mean:  \", np.array(  [1.0, 2.0, np.nan] ).mean() )"
   ]
  },
  {
   "cell_type": "code",
   "execution_count": 42,
   "metadata": {},
   "outputs": [
    {
     "data": {
      "text/html": [
       "<div>\n",
       "<style scoped>\n",
       "    .dataframe tbody tr th:only-of-type {\n",
       "        vertical-align: middle;\n",
       "    }\n",
       "\n",
       "    .dataframe tbody tr th {\n",
       "        vertical-align: top;\n",
       "    }\n",
       "\n",
       "    .dataframe thead th {\n",
       "        text-align: right;\n",
       "    }\n",
       "</style>\n",
       "<table border=\"1\" class=\"dataframe\">\n",
       "  <thead>\n",
       "    <tr style=\"text-align: right;\">\n",
       "      <th></th>\n",
       "      <th>NAME</th>\n",
       "      <th>FIRSTREF</th>\n",
       "      <th>FIRSTURL</th>\n",
       "      <th>DATE</th>\n",
       "      <th>...</th>\n",
       "      <th>RA_STRING(h:m:s)</th>\n",
       "      <th>DEC_STRING(d:m:s)</th>\n",
       "      <th>STAR_MASS(msun)</th>\n",
       "      <th>STAR_RADIUS(rsun)</th>\n",
       "    </tr>\n",
       "  </thead>\n",
       "  <tbody>\n",
       "    <tr>\n",
       "      <th>0</th>\n",
       "      <td>gamma Cep b</td>\n",
       "      <td>Campbell 1988</td>\n",
       "      <td>http://adsabs.harvard.edu/abs/1988ApJ...331..902C</td>\n",
       "      <td>1988</td>\n",
       "      <td>...</td>\n",
       "      <td>+23:39:20.98</td>\n",
       "      <td>+77:37:55.08</td>\n",
       "      <td>1.260000</td>\n",
       "      <td>5.010000</td>\n",
       "    </tr>\n",
       "    <tr>\n",
       "      <th>1</th>\n",
       "      <td>HD 114762 b</td>\n",
       "      <td>Latham 1989</td>\n",
       "      <td>http://adsabs.harvard.edu/abs/1989Natur.339...38L</td>\n",
       "      <td>1989</td>\n",
       "      <td>...</td>\n",
       "      <td>+13:12:20.10</td>\n",
       "      <td>+17:31:01.66</td>\n",
       "      <td>0.894578</td>\n",
       "      <td>0.859205</td>\n",
       "    </tr>\n",
       "    <tr>\n",
       "      <th>2</th>\n",
       "      <td>PSR B1257+12 B</td>\n",
       "      <td>Wolszczan 1992</td>\n",
       "      <td>http://adsabs.harvard.edu//abs/1992Natur.355.....</td>\n",
       "      <td>1992</td>\n",
       "      <td>...</td>\n",
       "      <td>13:00:03.577</td>\n",
       "      <td>+12:40:56.4</td>\n",
       "      <td>NaN</td>\n",
       "      <td>NaN</td>\n",
       "    </tr>\n",
       "    <tr>\n",
       "      <th>3</th>\n",
       "      <td>PSR B1257+12 A</td>\n",
       "      <td>Wolszczan 1992</td>\n",
       "      <td>http://adsabs.harvard.edu//abs/1992Natur.355.....</td>\n",
       "      <td>1992</td>\n",
       "      <td>...</td>\n",
       "      <td>13:00:03.577</td>\n",
       "      <td>+12:40:56.4</td>\n",
       "      <td>NaN</td>\n",
       "      <td>NaN</td>\n",
       "    </tr>\n",
       "    <tr>\n",
       "      <th>...</th>\n",
       "      <td>...</td>\n",
       "      <td>...</td>\n",
       "      <td>...</td>\n",
       "      <td>...</td>\n",
       "      <td>...</td>\n",
       "      <td>...</td>\n",
       "      <td>...</td>\n",
       "      <td>...</td>\n",
       "      <td>...</td>\n",
       "    </tr>\n",
       "    <tr>\n",
       "      <th>1638</th>\n",
       "      <td>WASP-89 b</td>\n",
       "      <td>Hellier 2015</td>\n",
       "      <td>http://adsabs.harvard.edu/abs/2015AJ....150...18H</td>\n",
       "      <td>2015</td>\n",
       "      <td>...</td>\n",
       "      <td>20:55:35.98</td>\n",
       "      <td>-18:58:16.1</td>\n",
       "      <td>0.920000</td>\n",
       "      <td>0.880000</td>\n",
       "    </tr>\n",
       "    <tr>\n",
       "      <th>1639</th>\n",
       "      <td>HD 1666 b</td>\n",
       "      <td>Harakawa 2015</td>\n",
       "      <td>http://adsabs.harvard.edu/abs/2015ApJ...806....5H</td>\n",
       "      <td>2015</td>\n",
       "      <td>...</td>\n",
       "      <td>+00:20:52.34</td>\n",
       "      <td>-19:55:51.89</td>\n",
       "      <td>1.500000</td>\n",
       "      <td>1.930000</td>\n",
       "    </tr>\n",
       "    <tr>\n",
       "      <th>1640</th>\n",
       "      <td>HD 95127 b</td>\n",
       "      <td>Niedzielski 2015</td>\n",
       "      <td>http://adsabs.harvard.edu/abs/2015ApJ...803....1N</td>\n",
       "      <td>2015</td>\n",
       "      <td>...</td>\n",
       "      <td>+10:59:35.10</td>\n",
       "      <td>+43:48:52.17</td>\n",
       "      <td>1.200000</td>\n",
       "      <td>20.000000</td>\n",
       "    </tr>\n",
       "    <tr>\n",
       "      <th>1641</th>\n",
       "      <td>Kepler-432 c</td>\n",
       "      <td>Ciceri 2015</td>\n",
       "      <td>http://adsabs.harvard.edu/abs/2015A%26A...573L...</td>\n",
       "      <td>2015</td>\n",
       "      <td>...</td>\n",
       "      <td>19:33:07.729</td>\n",
       "      <td>+48:17:09.</td>\n",
       "      <td>1.320000</td>\n",
       "      <td>4.060000</td>\n",
       "    </tr>\n",
       "  </tbody>\n",
       "</table>\n",
       "<p>1642 rows × 17 columns</p>\n",
       "</div>"
      ],
      "text/plain": [
       "                NAME          FIRSTREF  \\\n",
       "0        gamma Cep b     Campbell 1988   \n",
       "1        HD 114762 b       Latham 1989   \n",
       "2     PSR B1257+12 B    Wolszczan 1992   \n",
       "3     PSR B1257+12 A    Wolszczan 1992   \n",
       "...              ...               ...   \n",
       "1638       WASP-89 b      Hellier 2015   \n",
       "1639       HD 1666 b     Harakawa 2015   \n",
       "1640      HD 95127 b  Niedzielski 2015   \n",
       "1641    Kepler-432 c       Ciceri 2015   \n",
       "\n",
       "                                               FIRSTURL  DATE  ...  \\\n",
       "0     http://adsabs.harvard.edu/abs/1988ApJ...331..902C  1988  ...   \n",
       "1     http://adsabs.harvard.edu/abs/1989Natur.339...38L  1989  ...   \n",
       "2     http://adsabs.harvard.edu//abs/1992Natur.355.....  1992  ...   \n",
       "3     http://adsabs.harvard.edu//abs/1992Natur.355.....  1992  ...   \n",
       "...                                                 ...   ...  ...   \n",
       "1638  http://adsabs.harvard.edu/abs/2015AJ....150...18H  2015  ...   \n",
       "1639  http://adsabs.harvard.edu/abs/2015ApJ...806....5H  2015  ...   \n",
       "1640  http://adsabs.harvard.edu/abs/2015ApJ...803....1N  2015  ...   \n",
       "1641  http://adsabs.harvard.edu/abs/2015A%26A...573L...  2015  ...   \n",
       "\n",
       "      RA_STRING(h:m:s)  DEC_STRING(d:m:s)  STAR_MASS(msun)  STAR_RADIUS(rsun)  \n",
       "0         +23:39:20.98       +77:37:55.08         1.260000           5.010000  \n",
       "1         +13:12:20.10       +17:31:01.66         0.894578           0.859205  \n",
       "2         13:00:03.577        +12:40:56.4              NaN                NaN  \n",
       "3         13:00:03.577        +12:40:56.4              NaN                NaN  \n",
       "...                ...                ...              ...                ...  \n",
       "1638       20:55:35.98        -18:58:16.1         0.920000           0.880000  \n",
       "1639      +00:20:52.34       -19:55:51.89         1.500000           1.930000  \n",
       "1640      +10:59:35.10       +43:48:52.17         1.200000          20.000000  \n",
       "1641      19:33:07.729         +48:17:09.         1.320000           4.060000  \n",
       "\n",
       "[1642 rows x 17 columns]"
      ]
     },
     "execution_count": 42,
     "metadata": {},
     "output_type": "execute_result"
    }
   ],
   "source": [
    "# Creating a DataFrame from a file read:\n",
    "\n",
    "file    = \"strata_data/data/exoplanets.csv\"\n",
    "df_file = pd.read_csv(file)\n",
    "df_file"
   ]
  },
  {
   "cell_type": "code",
   "execution_count": 43,
   "metadata": {},
   "outputs": [
    {
     "data": {
      "text/html": [
       "<div>\n",
       "<style scoped>\n",
       "    .dataframe tbody tr th:only-of-type {\n",
       "        vertical-align: middle;\n",
       "    }\n",
       "\n",
       "    .dataframe tbody tr th {\n",
       "        vertical-align: top;\n",
       "    }\n",
       "\n",
       "    .dataframe thead th {\n",
       "        text-align: right;\n",
       "    }\n",
       "</style>\n",
       "<table border=\"1\" class=\"dataframe\">\n",
       "  <thead>\n",
       "    <tr style=\"text-align: right;\">\n",
       "      <th></th>\n",
       "      <th>a</th>\n",
       "      <th>b</th>\n",
       "      <th>c</th>\n",
       "      <th>d</th>\n",
       "    </tr>\n",
       "  </thead>\n",
       "  <tbody>\n",
       "    <tr>\n",
       "      <th>0</th>\n",
       "      <td>1</td>\n",
       "      <td>0.000000</td>\n",
       "      <td>0.0</td>\n",
       "      <td>a</td>\n",
       "    </tr>\n",
       "    <tr>\n",
       "      <th>1</th>\n",
       "      <td>2</td>\n",
       "      <td>0.349066</td>\n",
       "      <td>0.0</td>\n",
       "      <td>b</td>\n",
       "    </tr>\n",
       "    <tr>\n",
       "      <th>2</th>\n",
       "      <td>3</td>\n",
       "      <td>0.698132</td>\n",
       "      <td>0.0</td>\n",
       "      <td>c</td>\n",
       "    </tr>\n",
       "    <tr>\n",
       "      <th>3</th>\n",
       "      <td>4</td>\n",
       "      <td>1.047198</td>\n",
       "      <td>0.0</td>\n",
       "      <td>a</td>\n",
       "    </tr>\n",
       "    <tr>\n",
       "      <th>...</th>\n",
       "      <td>...</td>\n",
       "      <td>...</td>\n",
       "      <td>...</td>\n",
       "      <td>...</td>\n",
       "    </tr>\n",
       "    <tr>\n",
       "      <th>6</th>\n",
       "      <td>7</td>\n",
       "      <td>2.094395</td>\n",
       "      <td>0.0</td>\n",
       "      <td>a</td>\n",
       "    </tr>\n",
       "    <tr>\n",
       "      <th>7</th>\n",
       "      <td>8</td>\n",
       "      <td>2.443461</td>\n",
       "      <td>0.0</td>\n",
       "      <td>b</td>\n",
       "    </tr>\n",
       "    <tr>\n",
       "      <th>8</th>\n",
       "      <td>9</td>\n",
       "      <td>2.792527</td>\n",
       "      <td>0.0</td>\n",
       "      <td>c</td>\n",
       "    </tr>\n",
       "    <tr>\n",
       "      <th>9</th>\n",
       "      <td>10</td>\n",
       "      <td>3.141593</td>\n",
       "      <td>0.0</td>\n",
       "      <td>a</td>\n",
       "    </tr>\n",
       "  </tbody>\n",
       "</table>\n",
       "<p>10 rows × 4 columns</p>\n",
       "</div>"
      ],
      "text/plain": [
       "     a         b    c  d\n",
       "0    1  0.000000  0.0  a\n",
       "1    2  0.349066  0.0  b\n",
       "2    3  0.698132  0.0  c\n",
       "3    4  1.047198  0.0  a\n",
       "..  ..       ...  ... ..\n",
       "6    7  2.094395  0.0  a\n",
       "7    8  2.443461  0.0  b\n",
       "8    9  2.792527  0.0  c\n",
       "9   10  3.141593  0.0  a\n",
       "\n",
       "[10 rows x 4 columns]"
      ]
     },
     "execution_count": 43,
     "metadata": {},
     "output_type": "execute_result"
    }
   ],
   "source": [
    "dictionary = {'a':[1,2,3,4,5,6,7,8,9,10],\n",
    "              'b':np.linspace(0,np.pi,10),\n",
    "              'c':0.0,\n",
    "              'd':[\"a\",\"b\",\"c\",\"a\",\"b\",\"c\",\"a\",\"b\",\"c\",\"a\"]}\n",
    "\n",
    "df_dict = pd.DataFrame(dictionary)\n",
    "df_dict"
   ]
  },
  {
   "cell_type": "code",
   "execution_count": 44,
   "metadata": {},
   "outputs": [
    {
     "data": {
      "text/plain": [
       "Index(['a', 'b', 'c', 'd'], dtype='object')"
      ]
     },
     "execution_count": 44,
     "metadata": {},
     "output_type": "execute_result"
    }
   ],
   "source": [
    "df_dict.columns"
   ]
  },
  {
   "cell_type": "code",
   "execution_count": 45,
   "metadata": {},
   "outputs": [
    {
     "data": {
      "text/plain": [
       "RangeIndex(start=0, stop=10, step=1)"
      ]
     },
     "execution_count": 45,
     "metadata": {},
     "output_type": "execute_result"
    }
   ],
   "source": [
    "df_dict.index"
   ]
  },
  {
   "cell_type": "code",
   "execution_count": 46,
   "metadata": {},
   "outputs": [
    {
     "name": "stdout",
     "output_type": "stream",
     "text": [
      "<class 'pandas.core.frame.DataFrame'>\n",
      "RangeIndex: 10 entries, 0 to 9\n",
      "Data columns (total 4 columns):\n",
      " #   Column  Non-Null Count  Dtype  \n",
      "---  ------  --------------  -----  \n",
      " 0   a       10 non-null     int64  \n",
      " 1   b       10 non-null     float64\n",
      " 2   c       10 non-null     float64\n",
      " 3   d       10 non-null     object \n",
      "dtypes: float64(2), int64(1), object(1)\n",
      "memory usage: 448.0+ bytes\n"
     ]
    }
   ],
   "source": [
    "df_dict.info()"
   ]
  },
  {
   "cell_type": "code",
   "execution_count": 47,
   "metadata": {},
   "outputs": [
    {
     "data": {
      "text/html": [
       "<div>\n",
       "<style scoped>\n",
       "    .dataframe tbody tr th:only-of-type {\n",
       "        vertical-align: middle;\n",
       "    }\n",
       "\n",
       "    .dataframe tbody tr th {\n",
       "        vertical-align: top;\n",
       "    }\n",
       "\n",
       "    .dataframe thead th {\n",
       "        text-align: right;\n",
       "    }\n",
       "</style>\n",
       "<table border=\"1\" class=\"dataframe\">\n",
       "  <thead>\n",
       "    <tr style=\"text-align: right;\">\n",
       "      <th></th>\n",
       "      <th>Alice</th>\n",
       "      <th>Bob</th>\n",
       "      <th>Chuck</th>\n",
       "    </tr>\n",
       "  </thead>\n",
       "  <tbody>\n",
       "    <tr>\n",
       "      <th>Jan</th>\n",
       "      <td>1</td>\n",
       "      <td>0.561375</td>\n",
       "      <td>0.783374</td>\n",
       "    </tr>\n",
       "    <tr>\n",
       "      <th>Feb</th>\n",
       "      <td>2</td>\n",
       "      <td>0.559281</td>\n",
       "      <td>0.888651</td>\n",
       "    </tr>\n",
       "    <tr>\n",
       "      <th>Mar</th>\n",
       "      <td>3</td>\n",
       "      <td>0.833708</td>\n",
       "      <td>0.952166</td>\n",
       "    </tr>\n",
       "    <tr>\n",
       "      <th>Apr</th>\n",
       "      <td>4</td>\n",
       "      <td>0.323096</td>\n",
       "      <td>0.930755</td>\n",
       "    </tr>\n",
       "    <tr>\n",
       "      <th>May</th>\n",
       "      <td>5</td>\n",
       "      <td>0.080542</td>\n",
       "      <td>0.177999</td>\n",
       "    </tr>\n",
       "  </tbody>\n",
       "</table>\n",
       "</div>"
      ],
      "text/plain": [
       "     Alice       Bob     Chuck\n",
       "Jan      1  0.561375  0.783374\n",
       "Feb      2  0.559281  0.888651\n",
       "Mar      3  0.833708  0.952166\n",
       "Apr      4  0.323096  0.930755\n",
       "May      5  0.080542  0.177999"
      ]
     },
     "execution_count": 47,
     "metadata": {},
     "output_type": "execute_result"
    }
   ],
   "source": [
    "df_grades = pd.DataFrame({'Alice' : [1,2,3,4,5], \n",
    "                         'Bob':np.random.random(5), \n",
    "                         'Chuck' : np.random.random(5)},\n",
    "                         index=['Jan', 'Feb', 'Mar', 'Apr', 'May'])\n",
    "df_grades"
   ]
  },
  {
   "cell_type": "code",
   "execution_count": 48,
   "metadata": {},
   "outputs": [
    {
     "name": "stdout",
     "output_type": "stream",
     "text": [
      "Jan    1\n",
      "Feb    2\n",
      "Mar    3\n",
      "Apr    4\n",
      "May    5\n",
      "Name: Alice, dtype: int64\n",
      "<class 'pandas.core.series.Series'>\n"
     ]
    }
   ],
   "source": [
    "series_a = df_grades['Alice']\n",
    "\n",
    "print( series_a )\n",
    "print( type(series_a) )"
   ]
  },
  {
   "cell_type": "code",
   "execution_count": 49,
   "metadata": {},
   "outputs": [
    {
     "data": {
      "text/plain": [
       "2"
      ]
     },
     "execution_count": 49,
     "metadata": {},
     "output_type": "execute_result"
    }
   ],
   "source": [
    "df_grades['Alice'].iloc[1]"
   ]
  },
  {
   "cell_type": "code",
   "execution_count": 50,
   "metadata": {},
   "outputs": [
    {
     "data": {
      "text/plain": [
       "1"
      ]
     },
     "execution_count": 50,
     "metadata": {},
     "output_type": "execute_result"
    }
   ],
   "source": [
    "df_grades.loc['Jan','Alice']"
   ]
  },
  {
   "cell_type": "code",
   "execution_count": 51,
   "metadata": {},
   "outputs": [
    {
     "name": "stdout",
     "output_type": "stream",
     "text": [
      "Key: Jan , Value: 0.561375455038912\n",
      "Key: Feb , Value: 0.5592807050463807\n",
      "Key: Mar , Value: 0.8337082497607103\n",
      "Key: Apr , Value: 0.32309568578207615\n",
      "Key: May , Value: 0.0805424519255441\n"
     ]
    }
   ],
   "source": [
    "for key, value in df_grades['Bob'].iteritems():\n",
    "    print('Key:', '%s' % key, ', Value:', '%s' % value)\n",
    "\n"
   ]
  },
  {
   "cell_type": "code",
   "execution_count": 52,
   "metadata": {},
   "outputs": [
    {
     "name": "stdout",
     "output_type": "stream",
     "text": [
      "Index: Jan , Row: 0.7833744266265137\n",
      "Index: Feb , Row: 0.8886511202426317\n",
      "Index: Mar , Row: 0.9521664734305482\n",
      "Index: Apr , Row: 0.9307554480626236\n",
      "Index: May , Row: 0.17799883138139572\n"
     ]
    }
   ],
   "source": [
    "for index, row in df_grades.iterrows():\n",
    "    print('Index:', '%s' % index, ', Row:', '%s' % row['Chuck'])"
   ]
  },
  {
   "cell_type": "code",
   "execution_count": 53,
   "metadata": {},
   "outputs": [
    {
     "name": "stdout",
     "output_type": "stream",
     "text": [
      "     Alice\n",
      "Jan      1\n",
      "Feb      2\n",
      "Mar      3\n",
      "Apr      4\n",
      "May      5 \n",
      " <class 'pandas.core.frame.DataFrame'>\n"
     ]
    }
   ],
   "source": [
    "# Extract a column as a new DataFrame\n",
    "df_col = df_grades[['Alice']]\n",
    "print( df_col, \"\\n\", type(df_col) )"
   ]
  },
  {
   "cell_type": "code",
   "execution_count": 54,
   "metadata": {},
   "outputs": [
    {
     "name": "stdout",
     "output_type": "stream",
     "text": [
      "     Alice       Bob     Chuck\n",
      "Jan      1  0.561375  0.783374 \n",
      " <class 'pandas.core.frame.DataFrame'>\n"
     ]
    }
   ],
   "source": [
    "# Extract a row as a new DataFrame\n",
    "df_row = df_grades.loc['Jan':'Jan']\n",
    "print( df_row, \"\\n\", type(df_row) )"
   ]
  },
  {
   "cell_type": "code",
   "execution_count": 55,
   "metadata": {},
   "outputs": [
    {
     "data": {
      "text/plain": [
       "Jan    1\n",
       "Feb    2\n",
       "Mar    3\n",
       "Name: Alice, dtype: int64"
      ]
     },
     "execution_count": 55,
     "metadata": {},
     "output_type": "execute_result"
    }
   ],
   "source": [
    "df_grades.loc['Jan':'Mar', 'Alice']"
   ]
  },
  {
   "cell_type": "code",
   "execution_count": 56,
   "metadata": {},
   "outputs": [
    {
     "data": {
      "text/html": [
       "<div>\n",
       "<style scoped>\n",
       "    .dataframe tbody tr th:only-of-type {\n",
       "        vertical-align: middle;\n",
       "    }\n",
       "\n",
       "    .dataframe tbody tr th {\n",
       "        vertical-align: top;\n",
       "    }\n",
       "\n",
       "    .dataframe thead th {\n",
       "        text-align: right;\n",
       "    }\n",
       "</style>\n",
       "<table border=\"1\" class=\"dataframe\">\n",
       "  <thead>\n",
       "    <tr style=\"text-align: right;\">\n",
       "      <th></th>\n",
       "      <th>Alice</th>\n",
       "      <th>Bob</th>\n",
       "    </tr>\n",
       "  </thead>\n",
       "  <tbody>\n",
       "    <tr>\n",
       "      <th>Jan</th>\n",
       "      <td>1</td>\n",
       "      <td>0.561375</td>\n",
       "    </tr>\n",
       "    <tr>\n",
       "      <th>Feb</th>\n",
       "      <td>2</td>\n",
       "      <td>0.559281</td>\n",
       "    </tr>\n",
       "    <tr>\n",
       "      <th>Mar</th>\n",
       "      <td>3</td>\n",
       "      <td>0.833708</td>\n",
       "    </tr>\n",
       "    <tr>\n",
       "      <th>Apr</th>\n",
       "      <td>4</td>\n",
       "      <td>0.323096</td>\n",
       "    </tr>\n",
       "    <tr>\n",
       "      <th>May</th>\n",
       "      <td>5</td>\n",
       "      <td>0.080542</td>\n",
       "    </tr>\n",
       "  </tbody>\n",
       "</table>\n",
       "</div>"
      ],
      "text/plain": [
       "     Alice       Bob\n",
       "Jan      1  0.561375\n",
       "Feb      2  0.559281\n",
       "Mar      3  0.833708\n",
       "Apr      4  0.323096\n",
       "May      5  0.080542"
      ]
     },
     "execution_count": 56,
     "metadata": {},
     "output_type": "execute_result"
    }
   ],
   "source": [
    "df_grades.loc[:, 'Alice':'Bob']"
   ]
  },
  {
   "cell_type": "code",
   "execution_count": 57,
   "metadata": {},
   "outputs": [
    {
     "data": {
      "text/html": [
       "<div>\n",
       "<style scoped>\n",
       "    .dataframe tbody tr th:only-of-type {\n",
       "        vertical-align: middle;\n",
       "    }\n",
       "\n",
       "    .dataframe tbody tr th {\n",
       "        vertical-align: top;\n",
       "    }\n",
       "\n",
       "    .dataframe thead th {\n",
       "        text-align: right;\n",
       "    }\n",
       "</style>\n",
       "<table border=\"1\" class=\"dataframe\">\n",
       "  <thead>\n",
       "    <tr style=\"text-align: right;\">\n",
       "      <th></th>\n",
       "      <th>Bob</th>\n",
       "      <th>Chuck</th>\n",
       "    </tr>\n",
       "  </thead>\n",
       "  <tbody>\n",
       "    <tr>\n",
       "      <th>Mar</th>\n",
       "      <td>0.833708</td>\n",
       "      <td>0.952166</td>\n",
       "    </tr>\n",
       "    <tr>\n",
       "      <th>Apr</th>\n",
       "      <td>0.323096</td>\n",
       "      <td>0.930755</td>\n",
       "    </tr>\n",
       "  </tbody>\n",
       "</table>\n",
       "</div>"
      ],
      "text/plain": [
       "          Bob     Chuck\n",
       "Mar  0.833708  0.952166\n",
       "Apr  0.323096  0.930755"
      ]
     },
     "execution_count": 57,
     "metadata": {},
     "output_type": "execute_result"
    }
   ],
   "source": [
    "# For extracting row and column ranges\n",
    "df_grades.loc['Mar':'Apr', 'Bob':'Chuck']"
   ]
  },
  {
   "cell_type": "code",
   "execution_count": 58,
   "metadata": {},
   "outputs": [
    {
     "data": {
      "text/html": [
       "<div>\n",
       "<style scoped>\n",
       "    .dataframe tbody tr th:only-of-type {\n",
       "        vertical-align: middle;\n",
       "    }\n",
       "\n",
       "    .dataframe tbody tr th {\n",
       "        vertical-align: top;\n",
       "    }\n",
       "\n",
       "    .dataframe thead th {\n",
       "        text-align: right;\n",
       "    }\n",
       "</style>\n",
       "<table border=\"1\" class=\"dataframe\">\n",
       "  <thead>\n",
       "    <tr style=\"text-align: right;\">\n",
       "      <th></th>\n",
       "      <th>Alice</th>\n",
       "      <th>Bob</th>\n",
       "      <th>Chuck</th>\n",
       "    </tr>\n",
       "  </thead>\n",
       "  <tbody>\n",
       "    <tr>\n",
       "      <th>Apr</th>\n",
       "      <td>4</td>\n",
       "      <td>0.323096</td>\n",
       "      <td>0.930755</td>\n",
       "    </tr>\n",
       "    <tr>\n",
       "      <th>May</th>\n",
       "      <td>5</td>\n",
       "      <td>0.080542</td>\n",
       "      <td>0.177999</td>\n",
       "    </tr>\n",
       "  </tbody>\n",
       "</table>\n",
       "</div>"
      ],
      "text/plain": [
       "     Alice       Bob     Chuck\n",
       "Apr      4  0.323096  0.930755\n",
       "May      5  0.080542  0.177999"
      ]
     },
     "execution_count": 58,
     "metadata": {},
     "output_type": "execute_result"
    }
   ],
   "source": [
    "# Boolean masks work too\n",
    "df_grades.loc[df_grades['Bob'] < .5]"
   ]
  },
  {
   "cell_type": "code",
   "execution_count": 59,
   "metadata": {},
   "outputs": [
    {
     "name": "stdout",
     "output_type": "stream",
     "text": [
      "[1, 2, 3, 4, 5] <class 'list'>\n",
      "[1 2 3 4 5] <class 'numpy.ndarray'>\n"
     ]
    }
   ],
   "source": [
    "# Pandas DataFrames can be cast to other types\n",
    "\n",
    "my_list  = list(df_grades['Alice'])\n",
    "print( my_list, type(my_list) )\n",
    "\n",
    "my_array = np.array(df_grades['Alice'])\n",
    "print( my_array, type(my_array) )"
   ]
  },
  {
   "cell_type": "code",
   "execution_count": 60,
   "metadata": {},
   "outputs": [],
   "source": [
    "import matplotlib.pyplot as plt"
   ]
  },
  {
   "cell_type": "code",
   "execution_count": 61,
   "metadata": {},
   "outputs": [
    {
     "name": "stdout",
     "output_type": "stream",
     "text": [
      "pd.read_clipboard\n",
      "pd.read_csv\n",
      "pd.read_excel\n",
      "pd.read_feather\n",
      "pd.read_fwf\n",
      "pd.read_gbq\n",
      "pd.read_hdf\n",
      "pd.read_html\n",
      "pd.read_json\n",
      "pd.read_orc\n",
      "pd.read_parquet\n",
      "pd.read_pickle\n",
      "pd.read_sas\n",
      "pd.read_spss\n",
      "pd.read_sql\n",
      "pd.read_sql_query\n",
      "pd.read_sql_table\n",
      "pd.read_stata\n",
      "pd.read_table\n",
      "\n"
     ]
    }
   ],
   "source": [
    "# Print a list of all read_* methods in pandas\n",
    "\n",
    "print(\"\".join([\"pd.%s\\n\" % reader \n",
    "               for reader in dir(pd) \n",
    "               if reader.startswith('read_')]))"
   ]
  },
  {
   "cell_type": "code",
   "execution_count": 62,
   "metadata": {},
   "outputs": [
    {
     "name": "stdout",
     "output_type": "stream",
     "text": [
      "pd.DataFrame.to_clipboard\n",
      "pd.DataFrame.to_csv\n",
      "pd.DataFrame.to_dict\n",
      "pd.DataFrame.to_excel\n",
      "pd.DataFrame.to_feather\n",
      "pd.DataFrame.to_gbq\n",
      "pd.DataFrame.to_hdf\n",
      "pd.DataFrame.to_html\n",
      "pd.DataFrame.to_json\n",
      "pd.DataFrame.to_latex\n",
      "pd.DataFrame.to_markdown\n",
      "pd.DataFrame.to_numpy\n",
      "pd.DataFrame.to_parquet\n",
      "pd.DataFrame.to_period\n",
      "pd.DataFrame.to_pickle\n",
      "pd.DataFrame.to_records\n",
      "pd.DataFrame.to_sql\n",
      "pd.DataFrame.to_stata\n",
      "pd.DataFrame.to_string\n",
      "pd.DataFrame.to_timestamp\n",
      "pd.DataFrame.to_xarray\n",
      "\n"
     ]
    }
   ],
   "source": [
    "print(\"\".join([\"pd.DataFrame.%s\\n\" % reader \n",
    "               for reader in dir(pd.DataFrame) \n",
    "               if reader.startswith('to_')]))"
   ]
  },
  {
   "cell_type": "code",
   "execution_count": null,
   "metadata": {},
   "outputs": [],
   "source": []
  }
 ],
 "metadata": {
  "kernelspec": {
   "display_name": "Python 3",
   "language": "python",
   "name": "python3"
  },
  "language_info": {
   "codemirror_mode": {
    "name": "ipython",
    "version": 3
   },
   "file_extension": ".py",
   "mimetype": "text/x-python",
   "name": "python",
   "nbconvert_exporter": "python",
   "pygments_lexer": "ipython3",
   "version": "3.8.3"
  }
 },
 "nbformat": 4,
 "nbformat_minor": 4
}
