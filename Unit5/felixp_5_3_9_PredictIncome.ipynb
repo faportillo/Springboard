{
 "cells": [
  {
   "cell_type": "markdown",
   "metadata": {},
   "source": [
    "# Pre-Modeling: Data Preprocessing and Feature Exploration in Python"
   ]
  },
  {
   "cell_type": "code",
   "execution_count": 16,
   "metadata": {},
   "outputs": [],
   "source": [
    "import numpy as np\n",
    "import pandas as pd\n",
    "%matplotlib inline\n",
    "\n",
    "df = pd.read_csv('adult.csv', na_values=['#NAME?'])"
   ]
  },
  {
   "cell_type": "code",
   "execution_count": 17,
   "metadata": {},
   "outputs": [
    {
     "name": "stdout",
     "output_type": "stream",
     "text": [
      "   age  workclass  fnlwgt     education  educational-num      marital-status  \\\n",
      "0   25    Private  226802          11th                7       Never-married   \n",
      "1   38    Private   89814       HS-grad                9  Married-civ-spouse   \n",
      "2   28  Local-gov  336951    Assoc-acdm               12  Married-civ-spouse   \n",
      "3   44    Private  160323  Some-college               10  Married-civ-spouse   \n",
      "4   18          ?  103497  Some-college               10       Never-married   \n",
      "\n",
      "          occupation relationship   race  gender  capital-gain  capital-loss  \\\n",
      "0  Machine-op-inspct    Own-child  Black    Male             0             0   \n",
      "1    Farming-fishing      Husband  White    Male             0             0   \n",
      "2    Protective-serv      Husband  White    Male             0             0   \n",
      "3  Machine-op-inspct      Husband  Black    Male          7688             0   \n",
      "4                  ?    Own-child  White  Female             0             0   \n",
      "\n",
      "   hours-per-week native-country income  \n",
      "0              40  United-States  <=50K  \n",
      "1              50  United-States  <=50K  \n",
      "2              40  United-States   >50K  \n",
      "3              40  United-States   >50K  \n",
      "4              30  United-States  <=50K  \n"
     ]
    }
   ],
   "source": [
    "print(df.head())"
   ]
  },
  {
   "cell_type": "code",
   "execution_count": 18,
   "metadata": {},
   "outputs": [
    {
     "name": "stdout",
     "output_type": "stream",
     "text": [
      "<=50K    37155\n",
      ">50K     11687\n",
      "Name: income, dtype: int64\n",
      "<=50K\n"
     ]
    }
   ],
   "source": [
    "print(df['income'].value_counts())\n",
    "print(df['income'][0])"
   ]
  },
  {
   "cell_type": "code",
   "execution_count": 19,
   "metadata": {},
   "outputs": [],
   "source": [
    "df['income'] = [0 if x == '<=50K' else 1 for x in df['income']]"
   ]
  },
  {
   "cell_type": "markdown",
   "metadata": {},
   "source": [
    "X = df.drop('income', 1)\n",
    "y=df.income\n",
    "print(X.head())"
   ]
  },
  {
   "cell_type": "code",
   "execution_count": 21,
   "metadata": {},
   "outputs": [
    {
     "name": "stdout",
     "output_type": "stream",
     "text": [
      "0    0\n",
      "1    0\n",
      "2    1\n",
      "3    1\n",
      "4    0\n",
      "Name: income, dtype: int64\n"
     ]
    }
   ],
   "source": [
    "print(y.head())"
   ]
  },
  {
   "cell_type": "markdown",
   "metadata": {},
   "source": [
    "# Basic Data Cleaning"
   ]
  },
  {
   "cell_type": "code",
   "execution_count": 22,
   "metadata": {},
   "outputs": [
    {
     "name": "stdout",
     "output_type": "stream",
     "text": [
      "0            11th\n",
      "1         HS-grad\n",
      "2      Assoc-acdm\n",
      "3    Some-college\n",
      "4    Some-college\n",
      "Name: education, dtype: object\n"
     ]
    }
   ],
   "source": [
    "print(X['education'].head())"
   ]
  },
  {
   "cell_type": "code",
   "execution_count": 24,
   "metadata": {},
   "outputs": [
    {
     "name": "stdout",
     "output_type": "stream",
     "text": [
      "   10th  11th  12th  1st-4th  5th-6th  7th-8th  9th  Assoc-acdm  Assoc-voc  \\\n",
      "0     0     1     0        0        0        0    0           0          0   \n",
      "1     0     0     0        0        0        0    0           0          0   \n",
      "2     0     0     0        0        0        0    0           1          0   \n",
      "3     0     0     0        0        0        0    0           0          0   \n",
      "4     0     0     0        0        0        0    0           0          0   \n",
      "\n",
      "   Bachelors  Doctorate  HS-grad  Masters  Preschool  Prof-school  \\\n",
      "0          0          0        0        0          0            0   \n",
      "1          0          0        1        0          0            0   \n",
      "2          0          0        0        0          0            0   \n",
      "3          0          0        0        0          0            0   \n",
      "4          0          0        0        0          0            0   \n",
      "\n",
      "   Some-college  \n",
      "0             0  \n",
      "1             0  \n",
      "2             0  \n",
      "3             1  \n",
      "4             1  \n"
     ]
    }
   ],
   "source": [
    "print(pd.get_dummies(X['education']).head())"
   ]
  },
  {
   "cell_type": "code",
   "execution_count": 26,
   "metadata": {},
   "outputs": [
    {
     "name": "stdout",
     "output_type": "stream",
     "text": [
      "Feature 'workclass' has 9 unique categories\n",
      "Feature 'education' has 16 unique categories\n",
      "Feature 'marital-status' has 7 unique categories\n",
      "Feature 'occupation' has 15 unique categories\n",
      "Feature 'relationship' has 6 unique categories\n",
      "Feature 'race' has 5 unique categories\n",
      "Feature 'gender' has 2 unique categories\n",
      "Feature 'native-country' has 42 unique categories\n"
     ]
    }
   ],
   "source": [
    "for col_name in X.columns:\n",
    "    if X[col_name].dtypes == 'object':\n",
    "        unique_cat = len(X[col_name].unique())\n",
    "        print(\"Feature '{col_name}' has {unique_cat} unique categories\".format(col_name=col_name, unique_cat=unique_cat))"
   ]
  },
  {
   "cell_type": "code",
   "execution_count": 28,
   "metadata": {},
   "outputs": [
    {
     "name": "stdout",
     "output_type": "stream",
     "text": [
      "United-States    43832\n",
      "Mexico             951\n",
      "?                  857\n",
      "Philippines        295\n",
      "Germany            206\n",
      "Puerto-Rico        184\n",
      "Canada             182\n",
      "El-Salvador        155\n",
      "India              151\n",
      "Cuba               138\n",
      "Name: native-country, dtype: int64\n"
     ]
    }
   ],
   "source": [
    "print(X['native-country'].value_counts().sort_values(ascending=False).head(10))"
   ]
  },
  {
   "cell_type": "code",
   "execution_count": 30,
   "metadata": {},
   "outputs": [
    {
     "name": "stdout",
     "output_type": "stream",
     "text": [
      "United States     43832\n",
      "Other              5010\n",
      "Name: native-country, dtype: int64\n"
     ]
    }
   ],
   "source": [
    "X['native-country'] = ['United States ' if x =='United-States' else 'Other' for x in X['native-country']]\n",
    "print(X['native-country'].value_counts().sort_values(ascending=False))"
   ]
  },
  {
   "cell_type": "code",
   "execution_count": 34,
   "metadata": {},
   "outputs": [],
   "source": [
    "todummy_list = ['workclass', 'education', 'marital-status', 'occupation', 'relationship', 'race', 'gender', 'native-country']"
   ]
  },
  {
   "cell_type": "code",
   "execution_count": 35,
   "metadata": {},
   "outputs": [],
   "source": [
    "def dummy_df(df, todummy_list):\n",
    "    for x in todummy_list:\n",
    "        dummies = pd.get_dummies(df[x], prefix=x, dummy_na=False)\n",
    "        df = df.drop(x, 1)\n",
    "        df = pd.concat([df, dummies], axis=1)\n",
    "    return df"
   ]
  },
  {
   "cell_type": "code",
   "execution_count": 36,
   "metadata": {
    "scrolled": true
   },
   "outputs": [
    {
     "name": "stdout",
     "output_type": "stream",
     "text": [
      "   age  fnlwgt  educational-num  capital-gain  capital-loss  hours-per-week  \\\n",
      "0   25  226802                7             0             0              40   \n",
      "1   38   89814                9             0             0              50   \n",
      "2   28  336951               12             0             0              40   \n",
      "3   44  160323               10          7688             0              40   \n",
      "4   18  103497               10             0             0              30   \n",
      "\n",
      "   workclass_?  workclass_Federal-gov  workclass_Local-gov  \\\n",
      "0            0                      0                    0   \n",
      "1            0                      0                    0   \n",
      "2            0                      0                    1   \n",
      "3            0                      0                    0   \n",
      "4            1                      0                    0   \n",
      "\n",
      "   workclass_Never-worked  ...  relationship_Wife  race_Amer-Indian-Eskimo  \\\n",
      "0                       0  ...                  0                        0   \n",
      "1                       0  ...                  0                        0   \n",
      "2                       0  ...                  0                        0   \n",
      "3                       0  ...                  0                        0   \n",
      "4                       0  ...                  0                        0   \n",
      "\n",
      "   race_Asian-Pac-Islander  race_Black  race_Other  race_White  gender_Female  \\\n",
      "0                        0           1           0           0              0   \n",
      "1                        0           0           0           1              0   \n",
      "2                        0           0           0           1              0   \n",
      "3                        0           1           0           0              0   \n",
      "4                        0           0           0           1              1   \n",
      "\n",
      "   gender_Male  native-country_Other  native-country_United States   \n",
      "0            1                     0                              1  \n",
      "1            1                     0                              1  \n",
      "2            1                     0                              1  \n",
      "3            1                     0                              1  \n",
      "4            0                     0                              1  \n",
      "\n",
      "[5 rows x 68 columns]\n"
     ]
    }
   ],
   "source": [
    "X = dummy_df(X, todummy_list)\n",
    "print(X.head())"
   ]
  },
  {
   "cell_type": "markdown",
   "metadata": {},
   "source": [
    "## Handle Missing Data"
   ]
  },
  {
   "cell_type": "code",
   "execution_count": 37,
   "metadata": {},
   "outputs": [
    {
     "data": {
      "text/plain": [
       "native-country_United States     0\n",
       "education_Bachelors              0\n",
       "education_1st-4th                0\n",
       "education_5th-6th                0\n",
       "education_7th-8th                0\n",
       "dtype: int64"
      ]
     },
     "execution_count": 37,
     "metadata": {},
     "output_type": "execute_result"
    }
   ],
   "source": [
    "X.isnull().sum().sort_values(ascending=False).head()"
   ]
  },
  {
   "cell_type": "code",
   "execution_count": 44,
   "metadata": {},
   "outputs": [],
   "source": [
    "#from sklearn.impute import SimpleImputer\n",
    "#imp = SimpleImputer(missing_values='NaN', strategy='median')\n",
    "#imp.fit(X)\n",
    "#X = pd.DataFrame(data=imp.transform(X), columns=X.columns)\n",
    "\n",
    "# No Missing Data"
   ]
  },
  {
   "cell_type": "markdown",
   "metadata": {},
   "source": [
    "# More Data Exploration"
   ]
  },
  {
   "cell_type": "markdown",
   "metadata": {},
   "source": [
    "## Tukey IQR"
   ]
  },
  {
   "cell_type": "code",
   "execution_count": 46,
   "metadata": {},
   "outputs": [],
   "source": [
    "def find_outliers_tukey(x):\n",
    "    q1 = np.percentile(x, 25)\n",
    "    q3 = np.percentile(x, 75)\n",
    "    iqr = q3 - q1\n",
    "    floor = q1 - 1.5*iqr\n",
    "    ceiling = q3 + 1.5*iqr\n",
    "    outlier_indices = list(x.index[(x<floor)|(x>ceiling)])\n",
    "    outlier_values = list(x[outlier_indices])\n",
    "    \n",
    "    return outlier_indices, outlier_values"
   ]
  },
  {
   "cell_type": "code",
   "execution_count": 47,
   "metadata": {},
   "outputs": [
    {
     "name": "stdout",
     "output_type": "stream",
     "text": [
      "[79 79 79 79 79 79 79 79 79 79 79 79 79 79 79 79 79 79 79 79 79 79 79 79\n",
      " 79 79 79 79 79 79 80 80 80 80 80 80 80 80 80 80 80 80 80 80 80 80 80 80\n",
      " 80 80 80 80 80 80 80 80 80 80 80 80 80 80 80 80 80 80 80 80 81 81 81 81\n",
      " 81 81 81 81 81 81 81 81 81 81 81 81 81 81 81 81 81 81 81 81 81 81 81 81\n",
      " 81 81 81 81 81 81 81 81 81 82 82 82 82 82 82 82 82 82 82 82 82 82 82 82\n",
      " 83 83 83 83 83 83 83 83 83 83 83 84 84 84 84 84 84 84 84 84 84 84 84 84\n",
      " 85 85 85 85 85 86 87 87 87 88 88 88 88 88 88 89 89 90 90 90 90 90 90 90\n",
      " 90 90 90 90 90 90 90 90 90 90 90 90 90 90 90 90 90 90 90 90 90 90 90 90\n",
      " 90 90 90 90 90 90 90 90 90 90 90 90 90 90 90 90 90 90 90 90 90 90 90 90]\n"
     ]
    }
   ],
   "source": [
    "tukey_indices, tukey_values = find_outliers_tukey(X['age'])\n",
    "print(np.sort(tukey_values))"
   ]
  },
  {
   "cell_type": "markdown",
   "metadata": {},
   "source": [
    "## Kernel Density Estimation"
   ]
  },
  {
   "cell_type": "code",
   "execution_count": 49,
   "metadata": {},
   "outputs": [],
   "source": [
    "from sklearn.preprocessing import scale\n",
    "from statsmodels.nonparametric.kde import KDEUnivariate"
   ]
  },
  {
   "cell_type": "code",
   "execution_count": 51,
   "metadata": {},
   "outputs": [],
   "source": [
    "def find_outliers_kde(x):\n",
    "    x_scaled = scale(list(map(float, x)))\n",
    "    kde = KDEUnivariate(x_scaled)\n",
    "    kde.fit(bw='scott', fft=True)\n",
    "    pred = kde.evaluate(x_scaled)\n",
    "    n = sum(pred < 0.05)\n",
    "    outlier_ind = np.asarray(pred).argsort()[:n]\n",
    "    outlier_value = np.asarray(x)[outlier_ind]\n",
    "    \n",
    "    return outlier_ind, outlier_value"
   ]
  },
  {
   "cell_type": "code",
   "execution_count": 52,
   "metadata": {},
   "outputs": [
    {
     "name": "stdout",
     "output_type": "stream",
     "text": [
      "[69 69 69 ... 90 90 90]\n"
     ]
    }
   ],
   "source": [
    "kde_indices, kde_values = find_outliers_kde(X['age'])\n",
    "print(np.sort(kde_values))"
   ]
  },
  {
   "cell_type": "code",
   "execution_count": 53,
   "metadata": {},
   "outputs": [],
   "source": [
    "import matplotlib.pyplot as plt"
   ]
  },
  {
   "cell_type": "code",
   "execution_count": 56,
   "metadata": {},
   "outputs": [],
   "source": [
    "def plot_histogram(x):\n",
    "    plt.hist(x, bins=100, color='gray', alpha=0.5)\n",
    "    plt.title(\"Histogram of '{var_name}'\".format(var_name=x.name))\n",
    "    plt.xlabel(\"Value\")\n",
    "    plt.ylabel(\"Frequency\")\n",
    "    plt.show()\n",
    "    "
   ]
  },
  {
   "cell_type": "code",
   "execution_count": 57,
   "metadata": {},
   "outputs": [
    {
     "data": {
      "image/png": "[encoded data removed]",
      "text/plain": [
       "<Figure size 432x288 with 1 Axes>"
      ]
     },
     "metadata": {
      "needs_background": "light"
     },
     "output_type": "display_data"
    }
   ],
   "source": [
    "plot_histogram(X['age'])"
   ]
  },
  {
   "cell_type": "code",
   "execution_count": 58,
   "metadata": {},
   "outputs": [],
   "source": [
    "def plot_histogram_dv(x, y):\n",
    "    plt.hist(list(x[y==0]), alpha=0.5, label='DV=0')\n",
    "    plt.hist(list(x[y==1]), alpha=0.5, label='DV=1') \n",
    "    plt.title(\"Histogram of '{var_name}' by DV Category\".format(var_name=x.name))\n",
    "    plt.xlabel(\"Value\")\n",
    "    plt.ylabel(\"Frequency\")\n",
    "    plt.legend(loc='upper right')\n",
    "    plt.show()"
   ]
  },
  {
   "cell_type": "code",
   "execution_count": 59,
   "metadata": {},
   "outputs": [
    {
     "data": {
      "image/png": "[encoded data removed]",
      "text/plain": [
       "<Figure size 432x288 with 1 Axes>"
      ]
     },
     "metadata": {
      "needs_background": "light"
     },
     "output_type": "display_data"
    }
   ],
   "source": [
    "plot_histogram_dv(X['age'], y)"
   ]
  },
  {
   "cell_type": "markdown",
   "metadata": {},
   "source": [
    "# Feature Engineering"
   ]
  },
  {
   "cell_type": "code",
   "execution_count": 60,
   "metadata": {},
   "outputs": [],
   "source": [
    "from itertools import combinations\n",
    "from sklearn.preprocessing import PolynomialFeatures"
   ]
  },
  {
   "cell_type": "code",
   "execution_count": 61,
   "metadata": {},
   "outputs": [],
   "source": [
    "def add_interactions(df):\n",
    "    # Get feature names\n",
    "    combos = list(combinations(list(df.columns),2))\n",
    "    colnames = list(df.columns) + ['_'.join(x) for x in combos]\n",
    "    \n",
    "    # find interacations\n",
    "    poly = PolynomialFeatures(interaction_only=True, include_bias=False)\n",
    "    df = poly.fit_transform(df)\n",
    "    df = pd.DataFrame(df)\n",
    "    df.columns = colnames\n",
    "    \n",
    "    # remove interaction terms with all 0 values\n",
    "    noint_indices = [i for i, x in enumerate(list((df==0).all())) if x]\n",
    "    df = df.drop(df.columns[noint_indices], axis=1)\n",
    "    return df"
   ]
  },
  {
   "cell_type": "code",
   "execution_count": 62,
   "metadata": {},
   "outputs": [
    {
     "name": "stdout",
     "output_type": "stream",
     "text": [
      "    age    fnlwgt  educational-num  capital-gain  capital-loss  \\\n",
      "0  25.0  226802.0              7.0           0.0           0.0   \n",
      "1  38.0   89814.0              9.0           0.0           0.0   \n",
      "2  28.0  336951.0             12.0           0.0           0.0   \n",
      "3  44.0  160323.0             10.0        7688.0           0.0   \n",
      "4  18.0  103497.0             10.0           0.0           0.0   \n",
      "\n",
      "   hours-per-week  workclass_?  workclass_Federal-gov  workclass_Local-gov  \\\n",
      "0            40.0          0.0                    0.0                  0.0   \n",
      "1            50.0          0.0                    0.0                  0.0   \n",
      "2            40.0          0.0                    0.0                  1.0   \n",
      "3            40.0          0.0                    0.0                  0.0   \n",
      "4            30.0          1.0                    0.0                  0.0   \n",
      "\n",
      "   workclass_Never-worked  ...  race_Other_native-country_Other  \\\n",
      "0                     0.0  ...                              0.0   \n",
      "1                     0.0  ...                              0.0   \n",
      "2                     0.0  ...                              0.0   \n",
      "3                     0.0  ...                              0.0   \n",
      "4                     0.0  ...                              0.0   \n",
      "\n",
      "   race_Other_native-country_United States   race_White_gender_Female  \\\n",
      "0                                       0.0                       0.0   \n",
      "1                                       0.0                       0.0   \n",
      "2                                       0.0                       0.0   \n",
      "3                                       0.0                       0.0   \n",
      "4                                       0.0                       1.0   \n",
      "\n",
      "   race_White_gender_Male  race_White_native-country_Other  \\\n",
      "0                     0.0                              0.0   \n",
      "1                     1.0                              0.0   \n",
      "2                     1.0                              0.0   \n",
      "3                     0.0                              0.0   \n",
      "4                     0.0                              0.0   \n",
      "\n",
      "   race_White_native-country_United States   \\\n",
      "0                                       0.0   \n",
      "1                                       1.0   \n",
      "2                                       1.0   \n",
      "3                                       0.0   \n",
      "4                                       1.0   \n",
      "\n",
      "   gender_Female_native-country_Other  \\\n",
      "0                                 0.0   \n",
      "1                                 0.0   \n",
      "2                                 0.0   \n",
      "3                                 0.0   \n",
      "4                                 0.0   \n",
      "\n",
      "   gender_Female_native-country_United States   \\\n",
      "0                                          0.0   \n",
      "1                                          0.0   \n",
      "2                                          0.0   \n",
      "3                                          0.0   \n",
      "4                                          1.0   \n",
      "\n",
      "   gender_Male_native-country_Other  gender_Male_native-country_United States   \n",
      "0                               0.0                                        1.0  \n",
      "1                               0.0                                        1.0  \n",
      "2                               0.0                                        1.0  \n",
      "3                               0.0                                        1.0  \n",
      "4                               0.0                                        0.0  \n",
      "\n",
      "[5 rows x 1891 columns]\n"
     ]
    }
   ],
   "source": [
    "X = add_interactions(X)\n",
    "print(X.head())"
   ]
  },
  {
   "cell_type": "markdown",
   "metadata": {},
   "source": [
    "# Dimensionality reduction using PCA"
   ]
  },
  {
   "cell_type": "code",
   "execution_count": 63,
   "metadata": {},
   "outputs": [],
   "source": [
    "from sklearn.decomposition import PCA"
   ]
  },
  {
   "cell_type": "code",
   "execution_count": 64,
   "metadata": {},
   "outputs": [
    {
     "name": "stdout",
     "output_type": "stream",
     "text": [
      "              0             1             2             3             4  \\\n",
      "0 -2.017217e+08 -1.667885e+07  1.873905e+05 -2.091049e+06 -3.544552e+05   \n",
      "1 -2.017239e+08 -1.672363e+07 -4.771779e+06 -6.290287e+05 -3.632957e+05   \n",
      "2 -2.017189e+08 -1.662251e+07  6.289177e+06 -2.365242e+06  1.158349e+06   \n",
      "3  1.030840e+09 -1.504992e+07 -1.372122e+06  7.329805e+05 -1.450348e+05   \n",
      "4 -2.017248e+08 -1.674194e+07 -6.785342e+06 -8.440193e+05  1.839778e+05   \n",
      "\n",
      "              5              6              7             8             9  \n",
      "0  24953.578175  103135.855186 -187413.408925 -64858.147127  70038.487334  \n",
      "1  40006.136504  -95078.468963    -933.388225  34032.387052  39940.258988  \n",
      "2 -46306.506760 -436786.729551  133283.379622 -11838.049430  18582.362845  \n",
      "3 -85369.487601 -120519.281867   -2672.819470  26641.511608  -5979.101620  \n",
      "4  37700.998414   59157.264121   34905.311416  -5303.783185 -73581.079647  \n"
     ]
    }
   ],
   "source": [
    "pca = PCA(n_components=10)\n",
    "X_pca = pd.DataFrame(pca.fit_transform(X))\n",
    "print(X_pca.head())"
   ]
  },
  {
   "cell_type": "markdown",
   "metadata": {},
   "source": [
    "# Feature selection and model building"
   ]
  },
  {
   "cell_type": "code",
   "execution_count": 66,
   "metadata": {},
   "outputs": [],
   "source": [
    "from sklearn.model_selection import train_test_split\n",
    "\n",
    "X_train, X_test, y_train, y_test = train_test_split(X, y, train_size=0.70, random_state=1)"
   ]
  },
  {
   "cell_type": "code",
   "execution_count": 67,
   "metadata": {},
   "outputs": [
    {
     "name": "stdout",
     "output_type": "stream",
     "text": [
      "(48842, 15)\n",
      "(48842, 1891)\n"
     ]
    }
   ],
   "source": [
    "print(df.shape)\n",
    "print(X.shape)"
   ]
  },
  {
   "cell_type": "code",
   "execution_count": 68,
   "metadata": {},
   "outputs": [],
   "source": [
    "import sklearn.feature_selection"
   ]
  },
  {
   "cell_type": "code",
   "execution_count": 69,
   "metadata": {},
   "outputs": [
    {
     "name": "stderr",
     "output_type": "stream",
     "text": [
      "/usr/local/lib/python3.8/site-packages/sklearn/feature_selection/_univariate_selection.py:114: UserWarning: Features [ 350  663  824  829  834  992 1127 1164 1208 1315 1324 1327 1437 1628\n",
      " 1631] are constant.\n",
      "  warnings.warn(\"Features %s are constant.\" % constant_features_idx,\n",
      "/usr/local/lib/python3.8/site-packages/sklearn/feature_selection/_univariate_selection.py:116: RuntimeWarning: invalid value encountered in true_divide\n",
      "  f = msb / msw\n"
     ]
    }
   ],
   "source": [
    "select = sklearn.feature_selection.SelectKBest(k=20)\n",
    "selected_features = select.fit(X_train, y_train)\n",
    "indices_selected = selected_features.get_support(indices=True)\n",
    "colnames_selected = [X.columns[i] for i in indices_selected]\n",
    "\n",
    "X_train_selected = X_train[colnames_selected]\n",
    "X_test_selected = X_test[colnames_selected]"
   ]
  },
  {
   "cell_type": "code",
   "execution_count": 70,
   "metadata": {},
   "outputs": [
    {
     "data": {
      "text/plain": [
       "['educational-num',\n",
       " 'marital-status_Married-civ-spouse',\n",
       " 'relationship_Husband',\n",
       " 'age_educational-num',\n",
       " 'age_marital-status_Married-civ-spouse',\n",
       " 'age_relationship_Husband',\n",
       " 'fnlwgt_marital-status_Married-civ-spouse',\n",
       " 'fnlwgt_relationship_Husband',\n",
       " 'educational-num_hours-per-week',\n",
       " 'educational-num_marital-status_Married-civ-spouse',\n",
       " 'educational-num_relationship_Husband',\n",
       " 'hours-per-week_marital-status_Married-civ-spouse',\n",
       " 'hours-per-week_relationship_Husband',\n",
       " 'marital-status_Married-civ-spouse_relationship_Husband',\n",
       " 'marital-status_Married-civ-spouse_race_White',\n",
       " 'marital-status_Married-civ-spouse_gender_Male',\n",
       " 'marital-status_Married-civ-spouse_native-country_United States ',\n",
       " 'relationship_Husband_race_White',\n",
       " 'relationship_Husband_gender_Male',\n",
       " 'relationship_Husband_native-country_United States ']"
      ]
     },
     "execution_count": 70,
     "metadata": {},
     "output_type": "execute_result"
    }
   ],
   "source": [
    "colnames_selected"
   ]
  },
  {
   "cell_type": "code",
   "execution_count": 71,
   "metadata": {},
   "outputs": [],
   "source": [
    "from sklearn.linear_model import LogisticRegression\n",
    "from sklearn.metrics import roc_auc_score"
   ]
  },
  {
   "cell_type": "code",
   "execution_count": 76,
   "metadata": {},
   "outputs": [],
   "source": [
    "def find_model_perf(X_train, y_train, X_test, y_test):\n",
    "    model = LogisticRegression(max_iter=2000)\n",
    "    model.fit(X_train, y_train)\n",
    "    y_hat = [x[1] for x in model.predict_proba(X_test)]\n",
    "    auc = roc_auc_score(y_test, y_hat)\n",
    "    \n",
    "    return auc"
   ]
  },
  {
   "cell_type": "code",
   "execution_count": 77,
   "metadata": {},
   "outputs": [
    {
     "name": "stdout",
     "output_type": "stream",
     "text": [
      "0.80216807168276\n"
     ]
    }
   ],
   "source": [
    "auc_processed = find_model_perf(X_train_selected, y_train, X_test_selected, y_test)\n",
    "print(auc_processed)"
   ]
  },
  {
   "cell_type": "markdown",
   "metadata": {},
   "source": [
    "## Build model using unprocess data"
   ]
  },
  {
   "cell_type": "code",
   "execution_count": 78,
   "metadata": {},
   "outputs": [
    {
     "name": "stdout",
     "output_type": "stream",
     "text": [
      "(48842, 15)\n",
      "(48842, 15)\n"
     ]
    }
   ],
   "source": [
    "df_unprocessed = df\n",
    "df_unprocessed = df_unprocessed.dropna(axis=0, how='any')\n",
    "print(df.shape)\n",
    "print(df_unprocessed.shape)"
   ]
  },
  {
   "cell_type": "code",
   "execution_count": 80,
   "metadata": {},
   "outputs": [],
   "source": [
    "# Remove non-numeric columns\n",
    "for col_name in df_unprocessed.columns:\n",
    "    if df_unprocessed[col_name].dtypes not in ['int32', 'int64', 'float32', 'float64']:\n",
    "        df_unprocessed = df_unprocessed.drop(col_name,1)"
   ]
  },
  {
   "cell_type": "code",
   "execution_count": 81,
   "metadata": {},
   "outputs": [],
   "source": [
    "# Split into features and outcomes\n",
    "X_unprocessed = df_unprocessed.drop('income', 1)\n",
    "y_unprocessed = df_unprocessed.income"
   ]
  },
  {
   "cell_type": "code",
   "execution_count": 82,
   "metadata": {},
   "outputs": [
    {
     "name": "stdout",
     "output_type": "stream",
     "text": [
      "   age  fnlwgt  educational-num  capital-gain  capital-loss  hours-per-week\n",
      "0   25  226802                7             0             0              40\n",
      "1   38   89814                9             0             0              50\n",
      "2   28  336951               12             0             0              40\n",
      "3   44  160323               10          7688             0              40\n",
      "4   18  103497               10             0             0              30\n"
     ]
    }
   ],
   "source": [
    "print(X_unprocessed.head())"
   ]
  },
  {
   "cell_type": "code",
   "execution_count": null,
   "metadata": {},
   "outputs": [],
   "source": [
    "X_train_unprocessed, X_test_unprocessed, y_train, y_test = train_test_split(X_unprocessed, y_unprocessed, )"
   ]
  }
 ],
 "metadata": {
  "kernelspec": {
   "display_name": "Python 3",
   "language": "python",
   "name": "python3"
  },
  "language_info": {
   "codemirror_mode": {
    "name": "ipython",
    "version": 3
   },
   "file_extension": ".py",
   "mimetype": "text/x-python",
   "name": "python",
   "nbconvert_exporter": "python",
   "pygments_lexer": "ipython3",
   "version": "3.8.3"
  }
 },
 "nbformat": 4,
 "nbformat_minor": 4
}
