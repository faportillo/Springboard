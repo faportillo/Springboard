{
 "cells": [
  {
   "cell_type": "code",
   "execution_count": 10,
   "metadata": {},
   "outputs": [],
   "source": [
    "import feedparser\n",
    "import pandas as pd"
   ]
  },
  {
   "cell_type": "code",
   "execution_count": 19,
   "metadata": {},
   "outputs": [],
   "source": [
    "RSS_URL = \"https://www.whats-on-netflix.com/feed/\""
   ]
  },
  {
   "cell_type": "code",
   "execution_count": 20,
   "metadata": {},
   "outputs": [],
   "source": [
    "feed = feedparser.parse(RSS_URL)"
   ]
  },
  {
   "cell_type": "code",
   "execution_count": 21,
   "metadata": {},
   "outputs": [
    {
     "data": {
      "text/plain": [
       "feedparser.FeedParserDict"
      ]
     },
     "execution_count": 21,
     "metadata": {},
     "output_type": "execute_result"
    }
   ],
   "source": [
    "type(feed)"
   ]
  },
  {
   "cell_type": "code",
   "execution_count": 22,
   "metadata": {},
   "outputs": [
    {
     "data": {
      "text/plain": [
       "dict_keys(['feed', 'entries', 'bozo', 'headers', 'updated', 'updated_parsed', 'href', 'status', 'encoding', 'version', 'namespaces'])"
      ]
     },
     "execution_count": 22,
     "metadata": {},
     "output_type": "execute_result"
    }
   ],
   "source": [
    "feed.keys()"
   ]
  },
  {
   "cell_type": "code",
   "execution_count": 23,
   "metadata": {},
   "outputs": [
    {
     "data": {
      "text/plain": [
       "int"
      ]
     },
     "execution_count": 23,
     "metadata": {},
     "output_type": "execute_result"
    }
   ],
   "source": [
    "type(feed.bozo)"
   ]
  },
  {
   "cell_type": "code",
   "execution_count": 24,
   "metadata": {},
   "outputs": [
    {
     "data": {
      "text/plain": [
       "feedparser.FeedParserDict"
      ]
     },
     "execution_count": 24,
     "metadata": {},
     "output_type": "execute_result"
    }
   ],
   "source": [
    "type(feed.feed)"
   ]
  },
  {
   "cell_type": "code",
   "execution_count": 25,
   "metadata": {},
   "outputs": [
    {
     "data": {
      "text/plain": [
       "'rss20'"
      ]
     },
     "execution_count": 25,
     "metadata": {},
     "output_type": "execute_result"
    }
   ],
   "source": [
    "feed.version"
   ]
  },
  {
   "cell_type": "code",
   "execution_count": 26,
   "metadata": {},
   "outputs": [
    {
     "name": "stdout",
     "output_type": "stream",
     "text": [
      "Well done, you have a well-formed feed\n"
     ]
    }
   ],
   "source": [
    "if feed.bozo == 0:\n",
    "    print(\"Well done, you have a well-formed feed\")\n",
    "else:\n",
    "     print(\"Potential trouble ahead\")"
   ]
  },
  {
   "cell_type": "code",
   "execution_count": 27,
   "metadata": {},
   "outputs": [
    {
     "data": {
      "text/plain": [
       "dict_keys(['title', 'title_detail', 'links', 'link', 'subtitle', 'subtitle_detail', 'updated', 'updated_parsed', 'language', 'sy_updateperiod', 'sy_updatefrequency', 'generator_detail', 'generator', 'image'])"
      ]
     },
     "execution_count": 27,
     "metadata": {},
     "output_type": "execute_result"
    }
   ],
   "source": [
    "feed.feed.keys()"
   ]
  },
  {
   "cell_type": "code",
   "execution_count": 28,
   "metadata": {},
   "outputs": [
    {
     "name": "stdout",
     "output_type": "stream",
     "text": [
      "What's on Netflix\n"
     ]
    }
   ],
   "source": [
    "print(feed.feed.title)"
   ]
  },
  {
   "cell_type": "code",
   "execution_count": 30,
   "metadata": {},
   "outputs": [
    {
     "data": {
      "text/plain": [
       "{'type': 'text/plain',\n",
       " 'language': None,\n",
       " 'base': 'https://www.whats-on-netflix.com/feed/',\n",
       " 'value': \"What's on Netflix\"}"
      ]
     },
     "execution_count": 30,
     "metadata": {},
     "output_type": "execute_result"
    }
   ],
   "source": [
    "feed.feed.title_detail"
   ]
  },
  {
   "cell_type": "code",
   "execution_count": 31,
   "metadata": {},
   "outputs": [
    {
     "data": {
      "text/plain": [
       "'N/A'"
      ]
     },
     "execution_count": 31,
     "metadata": {},
     "output_type": "execute_result"
    }
   ],
   "source": [
    "feed.feed.get('published', 'N/A')"
   ]
  },
  {
   "cell_type": "code",
   "execution_count": 32,
   "metadata": {},
   "outputs": [
    {
     "data": {
      "text/plain": [
       "10"
      ]
     },
     "execution_count": 32,
     "metadata": {},
     "output_type": "execute_result"
    }
   ],
   "source": [
    "len(feed.entries)"
   ]
  },
  {
   "cell_type": "code",
   "execution_count": 33,
   "metadata": {},
   "outputs": [
    {
     "data": {
      "text/plain": [
       "list"
      ]
     },
     "execution_count": 33,
     "metadata": {},
     "output_type": "execute_result"
    }
   ],
   "source": [
    "type(feed.entries)"
   ]
  },
  {
   "cell_type": "code",
   "execution_count": 34,
   "metadata": {},
   "outputs": [
    {
     "data": {
      "text/plain": [
       "'‘Narcos: Mexico’ Season 3: Renewal Status & What to Expect'"
      ]
     },
     "execution_count": 34,
     "metadata": {},
     "output_type": "execute_result"
    }
   ],
   "source": [
    "feed.entries[0].title\n"
   ]
  },
  {
   "cell_type": "code",
   "execution_count": 35,
   "metadata": {},
   "outputs": [
    {
     "name": "stdout",
     "output_type": "stream",
     "text": [
      "0 ‘Narcos: Mexico’ Season 3: Renewal Status & What to Expect\n",
      "1 New Releases & What’s Popular on Netflix: July 10th, 2020\n",
      "2 Early Look at What’s Coming to Netflix UK in August 2020\n",
      "3 ‘The Old Guard’ Netflix Movie Soundtrack & Song Listings\n",
      "4 ‘The Big Show Show’ Season 2: Two New Episodes Arriving in 2020\n",
      "5 Netflix Originals Coming to Netflix in August 2020\n",
      "6 ‘The New Legends of Monkey’ Season 2 Coming to Netflix in August 2020\n",
      "7 What’s New on Netflix UK Today: July 10th, 2020\n",
      "8 New Releases on Netflix & Daily Top 10s: July 9th, 2020\n",
      "9 What’s Coming to Netflix in July 2020\n"
     ]
    }
   ],
   "source": [
    "i=0\n",
    "for entry in feed.entries:\n",
    "    print(i, feed.entries[i].title)\n",
    "    i+=1"
   ]
  },
  {
   "cell_type": "code",
   "execution_count": 36,
   "metadata": {},
   "outputs": [],
   "source": [
    "df = pd.DataFrame(feed.entries)"
   ]
  },
  {
   "cell_type": "code",
   "execution_count": 37,
   "metadata": {},
   "outputs": [
    {
     "data": {
      "text/html": [
       "<div>\n",
       "<style scoped>\n",
       "    .dataframe tbody tr th:only-of-type {\n",
       "        vertical-align: middle;\n",
       "    }\n",
       "\n",
       "    .dataframe tbody tr th {\n",
       "        vertical-align: top;\n",
       "    }\n",
       "\n",
       "    .dataframe thead th {\n",
       "        text-align: right;\n",
       "    }\n",
       "</style>\n",
       "<table border=\"1\" class=\"dataframe\">\n",
       "  <thead>\n",
       "    <tr style=\"text-align: right;\">\n",
       "      <th></th>\n",
       "      <th>title</th>\n",
       "      <th>title_detail</th>\n",
       "      <th>links</th>\n",
       "      <th>link</th>\n",
       "      <th>comments</th>\n",
       "      <th>authors</th>\n",
       "      <th>author</th>\n",
       "      <th>author_detail</th>\n",
       "      <th>published</th>\n",
       "      <th>published_parsed</th>\n",
       "      <th>...</th>\n",
       "      <th>id</th>\n",
       "      <th>guidislink</th>\n",
       "      <th>summary</th>\n",
       "      <th>summary_detail</th>\n",
       "      <th>wfw_commentrss</th>\n",
       "      <th>slash_comments</th>\n",
       "      <th>media_content</th>\n",
       "      <th>media_thumbnail</th>\n",
       "      <th>href</th>\n",
       "      <th>media_copyright</th>\n",
       "    </tr>\n",
       "  </thead>\n",
       "  <tbody>\n",
       "    <tr>\n",
       "      <th>0</th>\n",
       "      <td>‘Narcos: Mexico’ Season 3: Renewal Status &amp; Wh...</td>\n",
       "      <td>{'type': 'text/plain', 'language': None, 'base...</td>\n",
       "      <td>[{'rel': 'alternate', 'type': 'text/html', 'hr...</td>\n",
       "      <td>https://www.whats-on-netflix.com/news/narcos-m...</td>\n",
       "      <td>https://www.whats-on-netflix.com/news/narcos-m...</td>\n",
       "      <td>[{'name': 'Jacob Robinson'}]</td>\n",
       "      <td>Jacob Robinson</td>\n",
       "      <td>{'name': 'Jacob Robinson'}</td>\n",
       "      <td>Fri, 10 Jul 2020 16:10:58 +0000</td>\n",
       "      <td>(2020, 7, 10, 16, 10, 58, 4, 192, 0)</td>\n",
       "      <td>...</td>\n",
       "      <td>https://www.whats-on-netflix.com/?p=403496</td>\n",
       "      <td>False</td>\n",
       "      <td>&lt;p&gt;&lt;img width=\"1280\" height=\"720\" src=\"https:/...</td>\n",
       "      <td>{'type': 'text/html', 'language': None, 'base'...</td>\n",
       "      <td></td>\n",
       "      <td>0</td>\n",
       "      <td>[{'url': 'https://www.whats-on-netflix.com/wp-...</td>\n",
       "      <td>[{'url': 'https://www.whats-on-netflix.com/wp-...</td>\n",
       "      <td></td>\n",
       "      <td>Jacob Robinson</td>\n",
       "    </tr>\n",
       "    <tr>\n",
       "      <th>1</th>\n",
       "      <td>New Releases &amp; What’s Popular on Netflix: July...</td>\n",
       "      <td>{'type': 'text/plain', 'language': None, 'base...</td>\n",
       "      <td>[{'rel': 'alternate', 'type': 'text/html', 'hr...</td>\n",
       "      <td>https://www.whats-on-netflix.com/whats-new/new...</td>\n",
       "      <td>https://www.whats-on-netflix.com/whats-new/new...</td>\n",
       "      <td>[{'name': 'Kasey Moore'}]</td>\n",
       "      <td>Kasey Moore</td>\n",
       "      <td>{'name': 'Kasey Moore'}</td>\n",
       "      <td>Fri, 10 Jul 2020 16:04:26 +0000</td>\n",
       "      <td>(2020, 7, 10, 16, 4, 26, 4, 192, 0)</td>\n",
       "      <td>...</td>\n",
       "      <td>https://www.whats-on-netflix.com/?p=414136</td>\n",
       "      <td>False</td>\n",
       "      <td>&lt;p&gt;&lt;img width=\"1280\" height=\"720\" src=\"https:/...</td>\n",
       "      <td>{'type': 'text/html', 'language': None, 'base'...</td>\n",
       "      <td></td>\n",
       "      <td>0</td>\n",
       "      <td>[{'url': 'https://www.whats-on-netflix.com/wp-...</td>\n",
       "      <td>[{'url': 'https://www.whats-on-netflix.com/wp-...</td>\n",
       "      <td></td>\n",
       "      <td>Kasey Moore</td>\n",
       "    </tr>\n",
       "    <tr>\n",
       "      <th>2</th>\n",
       "      <td>Early Look at What’s Coming to Netflix UK in A...</td>\n",
       "      <td>{'type': 'text/plain', 'language': None, 'base...</td>\n",
       "      <td>[{'rel': 'alternate', 'type': 'text/html', 'hr...</td>\n",
       "      <td>https://www.whats-on-netflix.com/coming-soon/w...</td>\n",
       "      <td>https://www.whats-on-netflix.com/coming-soon/w...</td>\n",
       "      <td>[{'name': 'Kasey Moore'}]</td>\n",
       "      <td>Kasey Moore</td>\n",
       "      <td>{'name': 'Kasey Moore'}</td>\n",
       "      <td>Fri, 10 Jul 2020 14:17:14 +0000</td>\n",
       "      <td>(2020, 7, 10, 14, 17, 14, 4, 192, 0)</td>\n",
       "      <td>...</td>\n",
       "      <td>https://www.whats-on-netflix.com/?p=413989</td>\n",
       "      <td>False</td>\n",
       "      <td>&lt;p&gt;&lt;img width=\"1280\" height=\"720\" src=\"https:/...</td>\n",
       "      <td>{'type': 'text/html', 'language': None, 'base'...</td>\n",
       "      <td></td>\n",
       "      <td>0</td>\n",
       "      <td>[{'url': 'https://www.whats-on-netflix.com/wp-...</td>\n",
       "      <td>[{'url': 'https://www.whats-on-netflix.com/wp-...</td>\n",
       "      <td></td>\n",
       "      <td>Kasey Moore</td>\n",
       "    </tr>\n",
       "    <tr>\n",
       "      <th>3</th>\n",
       "      <td>‘The Old Guard’ Netflix Movie Soundtrack &amp; Son...</td>\n",
       "      <td>{'type': 'text/plain', 'language': None, 'base...</td>\n",
       "      <td>[{'rel': 'alternate', 'type': 'text/html', 'hr...</td>\n",
       "      <td>https://www.whats-on-netflix.com/news/the-old-...</td>\n",
       "      <td>https://www.whats-on-netflix.com/news/the-old-...</td>\n",
       "      <td>[{'name': 'Kasey Moore'}]</td>\n",
       "      <td>Kasey Moore</td>\n",
       "      <td>{'name': 'Kasey Moore'}</td>\n",
       "      <td>Fri, 10 Jul 2020 13:31:24 +0000</td>\n",
       "      <td>(2020, 7, 10, 13, 31, 24, 4, 192, 0)</td>\n",
       "      <td>...</td>\n",
       "      <td>https://www.whats-on-netflix.com/?p=414095</td>\n",
       "      <td>False</td>\n",
       "      <td>&lt;p&gt;&lt;img width=\"1280\" height=\"720\" src=\"https:/...</td>\n",
       "      <td>{'type': 'text/html', 'language': None, 'base'...</td>\n",
       "      <td></td>\n",
       "      <td>0</td>\n",
       "      <td>[{'url': 'https://www.whats-on-netflix.com/wp-...</td>\n",
       "      <td>[{'url': 'https://www.whats-on-netflix.com/wp-...</td>\n",
       "      <td></td>\n",
       "      <td>Kasey Moore</td>\n",
       "    </tr>\n",
       "    <tr>\n",
       "      <th>4</th>\n",
       "      <td>‘The Big Show Show’ Season 2: Two New Episodes...</td>\n",
       "      <td>{'type': 'text/plain', 'language': None, 'base...</td>\n",
       "      <td>[{'rel': 'alternate', 'type': 'text/html', 'hr...</td>\n",
       "      <td>https://www.whats-on-netflix.com/news/the-big-...</td>\n",
       "      <td>https://www.whats-on-netflix.com/news/the-big-...</td>\n",
       "      <td>[{'name': 'Jacob Robinson'}]</td>\n",
       "      <td>Jacob Robinson</td>\n",
       "      <td>{'name': 'Jacob Robinson'}</td>\n",
       "      <td>Fri, 10 Jul 2020 11:50:35 +0000</td>\n",
       "      <td>(2020, 7, 10, 11, 50, 35, 4, 192, 0)</td>\n",
       "      <td>...</td>\n",
       "      <td>https://www.whats-on-netflix.com/?p=406755</td>\n",
       "      <td>False</td>\n",
       "      <td>&lt;p&gt;&lt;img width=\"1280\" height=\"720\" src=\"https:/...</td>\n",
       "      <td>{'type': 'text/html', 'language': None, 'base'...</td>\n",
       "      <td></td>\n",
       "      <td>0</td>\n",
       "      <td>[{'url': 'https://www.whats-on-netflix.com/wp-...</td>\n",
       "      <td>[{'url': 'https://www.whats-on-netflix.com/wp-...</td>\n",
       "      <td></td>\n",
       "      <td>Jacob Robinson</td>\n",
       "    </tr>\n",
       "  </tbody>\n",
       "</table>\n",
       "<p>5 rows × 21 columns</p>\n",
       "</div>"
      ],
      "text/plain": [
       "                                               title  \\\n",
       "0  ‘Narcos: Mexico’ Season 3: Renewal Status & Wh...   \n",
       "1  New Releases & What’s Popular on Netflix: July...   \n",
       "2  Early Look at What’s Coming to Netflix UK in A...   \n",
       "3  ‘The Old Guard’ Netflix Movie Soundtrack & Son...   \n",
       "4  ‘The Big Show Show’ Season 2: Two New Episodes...   \n",
       "\n",
       "                                        title_detail  \\\n",
       "0  {'type': 'text/plain', 'language': None, 'base...   \n",
       "1  {'type': 'text/plain', 'language': None, 'base...   \n",
       "2  {'type': 'text/plain', 'language': None, 'base...   \n",
       "3  {'type': 'text/plain', 'language': None, 'base...   \n",
       "4  {'type': 'text/plain', 'language': None, 'base...   \n",
       "\n",
       "                                               links  \\\n",
       "0  [{'rel': 'alternate', 'type': 'text/html', 'hr...   \n",
       "1  [{'rel': 'alternate', 'type': 'text/html', 'hr...   \n",
       "2  [{'rel': 'alternate', 'type': 'text/html', 'hr...   \n",
       "3  [{'rel': 'alternate', 'type': 'text/html', 'hr...   \n",
       "4  [{'rel': 'alternate', 'type': 'text/html', 'hr...   \n",
       "\n",
       "                                                link  \\\n",
       "0  https://www.whats-on-netflix.com/news/narcos-m...   \n",
       "1  https://www.whats-on-netflix.com/whats-new/new...   \n",
       "2  https://www.whats-on-netflix.com/coming-soon/w...   \n",
       "3  https://www.whats-on-netflix.com/news/the-old-...   \n",
       "4  https://www.whats-on-netflix.com/news/the-big-...   \n",
       "\n",
       "                                            comments  \\\n",
       "0  https://www.whats-on-netflix.com/news/narcos-m...   \n",
       "1  https://www.whats-on-netflix.com/whats-new/new...   \n",
       "2  https://www.whats-on-netflix.com/coming-soon/w...   \n",
       "3  https://www.whats-on-netflix.com/news/the-old-...   \n",
       "4  https://www.whats-on-netflix.com/news/the-big-...   \n",
       "\n",
       "                        authors          author               author_detail  \\\n",
       "0  [{'name': 'Jacob Robinson'}]  Jacob Robinson  {'name': 'Jacob Robinson'}   \n",
       "1     [{'name': 'Kasey Moore'}]     Kasey Moore     {'name': 'Kasey Moore'}   \n",
       "2     [{'name': 'Kasey Moore'}]     Kasey Moore     {'name': 'Kasey Moore'}   \n",
       "3     [{'name': 'Kasey Moore'}]     Kasey Moore     {'name': 'Kasey Moore'}   \n",
       "4  [{'name': 'Jacob Robinson'}]  Jacob Robinson  {'name': 'Jacob Robinson'}   \n",
       "\n",
       "                         published                      published_parsed  ...  \\\n",
       "0  Fri, 10 Jul 2020 16:10:58 +0000  (2020, 7, 10, 16, 10, 58, 4, 192, 0)  ...   \n",
       "1  Fri, 10 Jul 2020 16:04:26 +0000   (2020, 7, 10, 16, 4, 26, 4, 192, 0)  ...   \n",
       "2  Fri, 10 Jul 2020 14:17:14 +0000  (2020, 7, 10, 14, 17, 14, 4, 192, 0)  ...   \n",
       "3  Fri, 10 Jul 2020 13:31:24 +0000  (2020, 7, 10, 13, 31, 24, 4, 192, 0)  ...   \n",
       "4  Fri, 10 Jul 2020 11:50:35 +0000  (2020, 7, 10, 11, 50, 35, 4, 192, 0)  ...   \n",
       "\n",
       "                                           id guidislink  \\\n",
       "0  https://www.whats-on-netflix.com/?p=403496      False   \n",
       "1  https://www.whats-on-netflix.com/?p=414136      False   \n",
       "2  https://www.whats-on-netflix.com/?p=413989      False   \n",
       "3  https://www.whats-on-netflix.com/?p=414095      False   \n",
       "4  https://www.whats-on-netflix.com/?p=406755      False   \n",
       "\n",
       "                                             summary  \\\n",
       "0  <p><img width=\"1280\" height=\"720\" src=\"https:/...   \n",
       "1  <p><img width=\"1280\" height=\"720\" src=\"https:/...   \n",
       "2  <p><img width=\"1280\" height=\"720\" src=\"https:/...   \n",
       "3  <p><img width=\"1280\" height=\"720\" src=\"https:/...   \n",
       "4  <p><img width=\"1280\" height=\"720\" src=\"https:/...   \n",
       "\n",
       "                                      summary_detail wfw_commentrss  \\\n",
       "0  {'type': 'text/html', 'language': None, 'base'...                  \n",
       "1  {'type': 'text/html', 'language': None, 'base'...                  \n",
       "2  {'type': 'text/html', 'language': None, 'base'...                  \n",
       "3  {'type': 'text/html', 'language': None, 'base'...                  \n",
       "4  {'type': 'text/html', 'language': None, 'base'...                  \n",
       "\n",
       "  slash_comments                                      media_content  \\\n",
       "0              0  [{'url': 'https://www.whats-on-netflix.com/wp-...   \n",
       "1              0  [{'url': 'https://www.whats-on-netflix.com/wp-...   \n",
       "2              0  [{'url': 'https://www.whats-on-netflix.com/wp-...   \n",
       "3              0  [{'url': 'https://www.whats-on-netflix.com/wp-...   \n",
       "4              0  [{'url': 'https://www.whats-on-netflix.com/wp-...   \n",
       "\n",
       "                                     media_thumbnail href media_copyright  \n",
       "0  [{'url': 'https://www.whats-on-netflix.com/wp-...       Jacob Robinson  \n",
       "1  [{'url': 'https://www.whats-on-netflix.com/wp-...          Kasey Moore  \n",
       "2  [{'url': 'https://www.whats-on-netflix.com/wp-...          Kasey Moore  \n",
       "3  [{'url': 'https://www.whats-on-netflix.com/wp-...          Kasey Moore  \n",
       "4  [{'url': 'https://www.whats-on-netflix.com/wp-...       Jacob Robinson  \n",
       "\n",
       "[5 rows x 21 columns]"
      ]
     },
     "execution_count": 37,
     "metadata": {},
     "output_type": "execute_result"
    }
   ],
   "source": [
    "df.head()"
   ]
  },
  {
   "cell_type": "code",
   "execution_count": null,
   "metadata": {},
   "outputs": [],
   "source": []
  }
 ],
 "metadata": {
  "kernelspec": {
   "display_name": "Python 3",
   "language": "python",
   "name": "python3"
  },
  "language_info": {
   "codemirror_mode": {
    "name": "ipython",
    "version": 3
   },
   "file_extension": ".py",
   "mimetype": "text/x-python",
   "name": "python",
   "nbconvert_exporter": "python",
   "pygments_lexer": "ipython3",
   "version": "3.8.3"
  }
 },
 "nbformat": 4,
 "nbformat_minor": 4
}
