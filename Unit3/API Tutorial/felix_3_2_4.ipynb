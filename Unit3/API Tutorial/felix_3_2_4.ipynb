{
 "cells": [
  {
   "cell_type": "code",
   "execution_count": 54,
   "metadata": {},
   "outputs": [],
   "source": [
    "import json\n",
    "import urllib.request\n",
    "import requests"
   ]
  },
  {
   "cell_type": "code",
   "execution_count": 55,
   "metadata": {},
   "outputs": [],
   "source": [
    "username = 'user'\n",
    "password = 'pass'\n",
    "url = 'http://www.omdbapi.com/?t=Game+of+thrones'\n",
    "r = requests.get(url, auth=(username, password))\n",
    "page = r.content"
   ]
  },
  {
   "cell_type": "code",
   "execution_count": 56,
   "metadata": {},
   "outputs": [],
   "source": [
    "data = json.loads(urllib.request.urlopen('http://www.omdbapi.com/?t=Game%20of%20Thrones&Season=1&apikey=f8f8e781').read().\\\n",
    "                  decode('utf8'))\n"
   ]
  },
  {
   "cell_type": "code",
   "execution_count": 57,
   "metadata": {},
   "outputs": [
    {
     "name": "stdout",
     "output_type": "stream",
     "text": [
      "<class 'dict'>\n"
     ]
    }
   ],
   "source": [
    "print(type(data))"
   ]
  },
  {
   "cell_type": "code",
   "execution_count": 58,
   "metadata": {},
   "outputs": [
    {
     "data": {
      "text/plain": [
       "dict_keys(['Title', 'Season', 'totalSeasons', 'Episodes', 'Response'])"
      ]
     },
     "execution_count": 58,
     "metadata": {},
     "output_type": "execute_result"
    }
   ],
   "source": [
    "data.keys()"
   ]
  },
  {
   "cell_type": "code",
   "execution_count": 59,
   "metadata": {},
   "outputs": [
    {
     "data": {
      "text/plain": [
       "{'Title': 'Game of Thrones',\n",
       " 'Season': '1',\n",
       " 'totalSeasons': '8',\n",
       " 'Episodes': [{'Title': 'Winter Is Coming',\n",
       "   'Released': '2011-04-17',\n",
       "   'Episode': '1',\n",
       "   'imdbRating': '9.0',\n",
       "   'imdbID': 'tt1480055'},\n",
       "  {'Title': 'The Kingsroad',\n",
       "   'Released': '2011-04-24',\n",
       "   'Episode': '2',\n",
       "   'imdbRating': '8.8',\n",
       "   'imdbID': 'tt1668746'},\n",
       "  {'Title': 'Lord Snow',\n",
       "   'Released': '2011-05-01',\n",
       "   'Episode': '3',\n",
       "   'imdbRating': '8.7',\n",
       "   'imdbID': 'tt1829962'},\n",
       "  {'Title': 'Cripples, Bastards, and Broken Things',\n",
       "   'Released': '2011-05-08',\n",
       "   'Episode': '4',\n",
       "   'imdbRating': '8.8',\n",
       "   'imdbID': 'tt1829963'},\n",
       "  {'Title': 'The Wolf and the Lion',\n",
       "   'Released': '2011-05-15',\n",
       "   'Episode': '5',\n",
       "   'imdbRating': '9.1',\n",
       "   'imdbID': 'tt1829964'},\n",
       "  {'Title': 'A Golden Crown',\n",
       "   'Released': '2011-05-22',\n",
       "   'Episode': '6',\n",
       "   'imdbRating': '9.2',\n",
       "   'imdbID': 'tt1837862'},\n",
       "  {'Title': 'You Win or You Die',\n",
       "   'Released': '2011-05-29',\n",
       "   'Episode': '7',\n",
       "   'imdbRating': '9.2',\n",
       "   'imdbID': 'tt1837863'},\n",
       "  {'Title': 'The Pointy End',\n",
       "   'Released': '2011-06-05',\n",
       "   'Episode': '8',\n",
       "   'imdbRating': '9.0',\n",
       "   'imdbID': 'tt1837864'},\n",
       "  {'Title': 'Baelor',\n",
       "   'Released': '2011-06-12',\n",
       "   'Episode': '9',\n",
       "   'imdbRating': '9.6',\n",
       "   'imdbID': 'tt1851398'},\n",
       "  {'Title': 'Fire and Blood',\n",
       "   'Released': '2011-06-19',\n",
       "   'Episode': '10',\n",
       "   'imdbRating': '9.5',\n",
       "   'imdbID': 'tt1851397'}],\n",
       " 'Response': 'True'}"
      ]
     },
     "execution_count": 59,
     "metadata": {},
     "output_type": "execute_result"
    }
   ],
   "source": [
    "data"
   ]
  },
  {
   "cell_type": "code",
   "execution_count": 60,
   "metadata": {},
   "outputs": [
    {
     "name": "stdout",
     "output_type": "stream",
     "text": [
      "Winter Is Coming 9.0\n",
      "The Kingsroad 8.8\n",
      "Lord Snow 8.7\n",
      "Cripples, Bastards, and Broken Things 8.8\n",
      "The Wolf and the Lion 9.1\n",
      "A Golden Crown 9.2\n",
      "You Win or You Die 9.2\n",
      "The Pointy End 9.0\n",
      "Baelor 9.6\n",
      "Fire and Blood 9.5\n"
     ]
    }
   ],
   "source": [
    "for episode in data['Episodes']:\n",
    "    print(episode['Title'], episode['imdbRating'])"
   ]
  },
  {
   "cell_type": "code",
   "execution_count": 61,
   "metadata": {},
   "outputs": [],
   "source": [
    "import pandas as pd"
   ]
  },
  {
   "cell_type": "code",
   "execution_count": 62,
   "metadata": {},
   "outputs": [],
   "source": [
    "df = pd.DataFrame.from_dict(data['Episodes'])"
   ]
  },
  {
   "cell_type": "code",
   "execution_count": 63,
   "metadata": {},
   "outputs": [
    {
     "data": {
      "text/html": [
       "<div>\n",
       "<style scoped>\n",
       "    .dataframe tbody tr th:only-of-type {\n",
       "        vertical-align: middle;\n",
       "    }\n",
       "\n",
       "    .dataframe tbody tr th {\n",
       "        vertical-align: top;\n",
       "    }\n",
       "\n",
       "    .dataframe thead th {\n",
       "        text-align: right;\n",
       "    }\n",
       "</style>\n",
       "<table border=\"1\" class=\"dataframe\">\n",
       "  <thead>\n",
       "    <tr style=\"text-align: right;\">\n",
       "      <th></th>\n",
       "      <th>Title</th>\n",
       "      <th>Released</th>\n",
       "      <th>Episode</th>\n",
       "      <th>imdbRating</th>\n",
       "      <th>imdbID</th>\n",
       "    </tr>\n",
       "  </thead>\n",
       "  <tbody>\n",
       "    <tr>\n",
       "      <th>0</th>\n",
       "      <td>Winter Is Coming</td>\n",
       "      <td>2011-04-17</td>\n",
       "      <td>1</td>\n",
       "      <td>9.0</td>\n",
       "      <td>tt1480055</td>\n",
       "    </tr>\n",
       "    <tr>\n",
       "      <th>1</th>\n",
       "      <td>The Kingsroad</td>\n",
       "      <td>2011-04-24</td>\n",
       "      <td>2</td>\n",
       "      <td>8.8</td>\n",
       "      <td>tt1668746</td>\n",
       "    </tr>\n",
       "    <tr>\n",
       "      <th>2</th>\n",
       "      <td>Lord Snow</td>\n",
       "      <td>2011-05-01</td>\n",
       "      <td>3</td>\n",
       "      <td>8.7</td>\n",
       "      <td>tt1829962</td>\n",
       "    </tr>\n",
       "    <tr>\n",
       "      <th>3</th>\n",
       "      <td>Cripples, Bastards, and Broken Things</td>\n",
       "      <td>2011-05-08</td>\n",
       "      <td>4</td>\n",
       "      <td>8.8</td>\n",
       "      <td>tt1829963</td>\n",
       "    </tr>\n",
       "    <tr>\n",
       "      <th>4</th>\n",
       "      <td>The Wolf and the Lion</td>\n",
       "      <td>2011-05-15</td>\n",
       "      <td>5</td>\n",
       "      <td>9.1</td>\n",
       "      <td>tt1829964</td>\n",
       "    </tr>\n",
       "    <tr>\n",
       "      <th>5</th>\n",
       "      <td>A Golden Crown</td>\n",
       "      <td>2011-05-22</td>\n",
       "      <td>6</td>\n",
       "      <td>9.2</td>\n",
       "      <td>tt1837862</td>\n",
       "    </tr>\n",
       "    <tr>\n",
       "      <th>6</th>\n",
       "      <td>You Win or You Die</td>\n",
       "      <td>2011-05-29</td>\n",
       "      <td>7</td>\n",
       "      <td>9.2</td>\n",
       "      <td>tt1837863</td>\n",
       "    </tr>\n",
       "    <tr>\n",
       "      <th>7</th>\n",
       "      <td>The Pointy End</td>\n",
       "      <td>2011-06-05</td>\n",
       "      <td>8</td>\n",
       "      <td>9.0</td>\n",
       "      <td>tt1837864</td>\n",
       "    </tr>\n",
       "    <tr>\n",
       "      <th>8</th>\n",
       "      <td>Baelor</td>\n",
       "      <td>2011-06-12</td>\n",
       "      <td>9</td>\n",
       "      <td>9.6</td>\n",
       "      <td>tt1851398</td>\n",
       "    </tr>\n",
       "    <tr>\n",
       "      <th>9</th>\n",
       "      <td>Fire and Blood</td>\n",
       "      <td>2011-06-19</td>\n",
       "      <td>10</td>\n",
       "      <td>9.5</td>\n",
       "      <td>tt1851397</td>\n",
       "    </tr>\n",
       "  </tbody>\n",
       "</table>\n",
       "</div>"
      ],
      "text/plain": [
       "                                   Title    Released Episode imdbRating  \\\n",
       "0                       Winter Is Coming  2011-04-17       1        9.0   \n",
       "1                          The Kingsroad  2011-04-24       2        8.8   \n",
       "2                              Lord Snow  2011-05-01       3        8.7   \n",
       "3  Cripples, Bastards, and Broken Things  2011-05-08       4        8.8   \n",
       "4                  The Wolf and the Lion  2011-05-15       5        9.1   \n",
       "5                         A Golden Crown  2011-05-22       6        9.2   \n",
       "6                     You Win or You Die  2011-05-29       7        9.2   \n",
       "7                         The Pointy End  2011-06-05       8        9.0   \n",
       "8                                 Baelor  2011-06-12       9        9.6   \n",
       "9                         Fire and Blood  2011-06-19      10        9.5   \n",
       "\n",
       "      imdbID  \n",
       "0  tt1480055  \n",
       "1  tt1668746  \n",
       "2  tt1829962  \n",
       "3  tt1829963  \n",
       "4  tt1829964  \n",
       "5  tt1837862  \n",
       "6  tt1837863  \n",
       "7  tt1837864  \n",
       "8  tt1851398  \n",
       "9  tt1851397  "
      ]
     },
     "execution_count": 63,
     "metadata": {},
     "output_type": "execute_result"
    }
   ],
   "source": [
    "df"
   ]
  },
  {
   "cell_type": "code",
   "execution_count": 64,
   "metadata": {},
   "outputs": [],
   "source": [
    "with open('omdb_api_data.json', 'w') as f:\n",
    "    json.dump(data, f)"
   ]
  },
  {
   "cell_type": "code",
   "execution_count": 65,
   "metadata": {},
   "outputs": [],
   "source": [
    "with open('omdb_config_key.json', 'w') as f:\n",
    "    json.dump('f8f8e781', f)"
   ]
  },
  {
   "cell_type": "code",
   "execution_count": 66,
   "metadata": {},
   "outputs": [],
   "source": [
    "with open('omdb_config_key.json') as key_file:\n",
    "    key = json.load(key_file)"
   ]
  },
  {
   "cell_type": "code",
   "execution_count": 67,
   "metadata": {},
   "outputs": [
    {
     "data": {
      "text/plain": [
       "'f8f8e781'"
      ]
     },
     "execution_count": 67,
     "metadata": {},
     "output_type": "execute_result"
    }
   ],
   "source": [
    "key"
   ]
  },
  {
   "cell_type": "code",
   "execution_count": 68,
   "metadata": {},
   "outputs": [],
   "source": [
    "import requests"
   ]
  },
  {
   "cell_type": "code",
   "execution_count": 69,
   "metadata": {},
   "outputs": [],
   "source": [
    "url = 'http://www.omdbapi.com/?t=Game%20of%20Thrones&Season=1'"
   ]
  },
  {
   "cell_type": "code",
   "execution_count": 76,
   "metadata": {},
   "outputs": [],
   "source": [
    "params = {'apikey': key}"
   ]
  },
  {
   "cell_type": "code",
   "execution_count": 77,
   "metadata": {},
   "outputs": [],
   "source": [
    "r = requests.get(url, params)"
   ]
  },
  {
   "cell_type": "code",
   "execution_count": 78,
   "metadata": {},
   "outputs": [
    {
     "data": {
      "text/plain": [
       "requests.models.Response"
      ]
     },
     "execution_count": 78,
     "metadata": {},
     "output_type": "execute_result"
    }
   ],
   "source": [
    "type(r)"
   ]
  },
  {
   "cell_type": "code",
   "execution_count": 79,
   "metadata": {},
   "outputs": [
    {
     "data": {
      "text/plain": [
       "'http://www.omdbapi.com/?t=Game%20of%20Thrones&Season=1&apikey=f8f8e781'"
      ]
     },
     "execution_count": 79,
     "metadata": {},
     "output_type": "execute_result"
    }
   ],
   "source": [
    "r.url"
   ]
  },
  {
   "cell_type": "code",
   "execution_count": 80,
   "metadata": {},
   "outputs": [
    {
     "data": {
      "text/plain": [
       "200"
      ]
     },
     "execution_count": 80,
     "metadata": {},
     "output_type": "execute_result"
    }
   ],
   "source": [
    "r.status_code"
   ]
  },
  {
   "cell_type": "code",
   "execution_count": 81,
   "metadata": {},
   "outputs": [
    {
     "name": "stdout",
     "output_type": "stream",
     "text": [
      "b'{\"Title\":\"Game of Thrones\",\"Season\":\"1\",\"totalSeasons\":\"8\",\"Episodes\":[{\"Title\":\"Winter Is Coming\",\"Released\":\"2011-04-17\",\"Episode\":\"1\",\"imdbRating\":\"9.0\",\"imdbID\":\"tt1480055\"},{\"Title\":\"The Kingsroad\",\"Released\":\"2011-04-24\",\"Episode\":\"2\",\"imdbRating\":\"8.8\",\"imdbID\":\"tt1668746\"},{\"Title\":\"Lord Snow\",\"Released\":\"2011-05-01\",\"Episode\":\"3\",\"imdbRating\":\"8.7\",\"imdbID\":\"tt1829962\"},{\"Title\":\"Cripples, Bastards, and Broken Things\",\"Released\":\"2011-05-08\",\"Episode\":\"4\",\"imdbRating\":\"8.8\",\"imdbID\":\"tt1829963\"},{\"Title\":\"The Wolf and the Lion\",\"Released\":\"2011-05-15\",\"Episode\":\"5\",\"imdbRating\":\"9.1\",\"imdbID\":\"tt1829964\"},{\"Title\":\"A Golden Crown\",\"Released\":\"2011-05-22\",\"Episode\":\"6\",\"imdbRating\":\"9.2\",\"imdbID\":\"tt1837862\"},{\"Title\":\"You Win or You Die\",\"Released\":\"2011-05-29\",\"Episode\":\"7\",\"imdbRating\":\"9.2\",\"imdbID\":\"tt1837863\"},{\"Title\":\"The Pointy End\",\"Released\":\"2011-06-05\",\"Episode\":\"8\",\"imdbRating\":\"9.0\",\"imdbID\":\"tt1837864\"},{\"Title\":\"Baelor\",\"Released\":\"2011-06-12\",\"Episode\":\"9\",\"imdbRating\":\"9.6\",\"imdbID\":\"tt1851398\"},{\"Title\":\"Fire and Blood\",\"Released\":\"2011-06-19\",\"Episode\":\"10\",\"imdbRating\":\"9.5\",\"imdbID\":\"tt1851397\"}],\"Response\":\"True\"}'\n"
     ]
    }
   ],
   "source": [
    "print(r.content)"
   ]
  },
  {
   "cell_type": "code",
   "execution_count": 82,
   "metadata": {},
   "outputs": [
    {
     "name": "stdout",
     "output_type": "stream",
     "text": [
      "b'{\"Title\":\"Game of Thrones\",\"Season\":\"1\",\"totalSeasons\":\"8\",\"Episodes\":[{\"Title\":\"Winter Is Coming\",\"Released\":\"2011-04-17\",\"Episode\":\"1\",\"imdbRating\":\"9.0\",\"imdbID\":\"tt1480055\"},{\"Title\":\"The Kingsroad\",\"Released\":\"2011-04-24\",\"Episode\":\"2\",\"imdbRating\":\"8.8\",\"imdbID\":\"tt1668746\"},{\"Title\":\"Lord Snow\",\"Released\":\"2011-05-01\",\"Episode\":\"3\",\"imdbRating\":\"8.7\",\"imdbID\":\"tt1829962\"},{\"Title\":\"Cripples, Bastards, and Broken Things\",\"Released\":\"2011-05-08\",\"Episode\":\"4\",\"imdbRating\":\"8.8\",\"imdbID\":\"tt1829963\"},{\"Title\":\"The Wolf and the Lion\",\"Released\":\"2011-05-15\",\"Episode\":\"5\",\"imdbRating\":\"9.1\",\"imdbID\":\"tt1829964\"},{\"Title\":\"A Golden Crown\",\"Released\":\"2011-05-22\",\"Episode\":\"6\",\"imdbRating\":\"9.2\",\"imdbID\":\"tt1837862\"},{\"Title\":\"You Win or You Die\",\"Released\":\"2011-05-29\",\"Episode\":\"7\",\"imdbRating\":\"9.2\",\"imdbID\":\"tt1837863\"},{\"Title\":\"The Pointy End\",\"Released\":\"2011-06-05\",\"Episode\":\"8\",\"imdbRating\":\"9.0\",\"imdbID\":\"tt1837864\"},{\"Title\":\"Baelor\",\"Released\":\"2011-06-12\",\"Episode\":\"9\",\"imdbRating\":\"9.6\",\"imdbID\":\"tt1851398\"},{\"Title\":\"Fire and Blood\",\"Released\":\"2011-06-19\",\"Episode\":\"10\",\"imdbRating\":\"9.5\",\"imdbID\":\"tt1851397\"}],\"Response\":\"True\"}'\n"
     ]
    }
   ],
   "source": [
    "params = {'apikey': key, 'page_size': 2}\n",
    "r = requests.get(url, params)\n",
    "print(r.content)"
   ]
  },
  {
   "cell_type": "code",
   "execution_count": null,
   "metadata": {},
   "outputs": [],
   "source": []
  }
 ],
 "metadata": {
  "kernelspec": {
   "display_name": "Python 3",
   "language": "python",
   "name": "python3"
  },
  "language_info": {
   "codemirror_mode": {
    "name": "ipython",
    "version": 3
   },
   "file_extension": ".py",
   "mimetype": "text/x-python",
   "name": "python",
   "nbconvert_exporter": "python",
   "pygments_lexer": "ipython3",
   "version": "3.8.3"
  }
 },
 "nbformat": 4,
 "nbformat_minor": 4
}
